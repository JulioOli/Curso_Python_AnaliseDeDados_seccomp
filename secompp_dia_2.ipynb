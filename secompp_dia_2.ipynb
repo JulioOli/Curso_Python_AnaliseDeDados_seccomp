{
  "cells": [
    {
      "cell_type": "markdown",
      "metadata": {
        "id": "ovTylDckTp10"
      },
      "source": [
        "# Ciência de Dados\n",
        "\n",
        "A ciência de dados é uma disciplina que envolve a coleta, processamento, análise e interpretação de grandes volumes de dados para extrair insights valiosos e conhecimentos significativos. Ela combina elementos de estatística, matemática, programação e conhecimento de domínio para resolver problemas complexos e tomar decisões informadas.\n",
        "\n",
        "A análise de dados é um componente central da ciência de dados, que engloba várias técnicas e métodos para explorar, visualizar e modelar os dados, com o objetivo de descobrir padrões, tendências, correlações e outras informações úteis.\n",
        "\n",
        "\n",
        "## Onde a Ciência de Dados é Utilizada:\n",
        "\n",
        "* Negócios e Marketing: Para análise de mercado, previsão de demanda, segmentação de clientes e personalização de campanhas.\n",
        "\n",
        "* Saúde: Na análise de dados médicos para diagnósticos precisos, previsão de surtos de doenças e identificação de tratamentos eficazes.\n",
        "\n",
        "* Finanças: Para análise de risco de crédito, detecção de fraudes, previsão de investimentos e modelagem financeira.\n",
        "\n",
        "* Tecnologia e Internet: Para análise de comportamento do usuário, recomendação de conteúdo e otimização de sites.\n",
        "\n",
        "* Governo: Na análise de políticas públicas, previsão de demanda de serviços públicos e segurança pública.\n",
        "\n",
        "* Ciências Sociais e Comportamentais: Para entender padrões sociais, comportamento do consumidor e opiniões públicas.\n",
        "\n",
        "## Vantagens da Ciência de Dados\n",
        "\n",
        "* Tomada de Decisão Informada: Fornece informações baseadas em dados, reduzindo a incerteza e melhorando a tomada de decisões.\n",
        "\n",
        "* Otimização de Processos: Ajuda a identificar ineficiências e oportunidades de melhoria em processos complexos.\n",
        "\n",
        "* Inovação e Competitividade: Permite o desenvolvimento de novos produtos, serviços e estratégias competitivas com base em insights de dados.\n",
        "\n",
        "* Personalização: Capacidade de oferecer experiências personalizadas aos clientes, aumentando a satisfação e lealdade.\n",
        "\n",
        "* Descoberta de Insights Ocultos: Revela padrões e relações não óbvias em grandes conjuntos de dados.\n",
        "\n",
        "## Tendências na Ciência de Dados\n",
        "\n",
        "* Inteligência Artificial e Aprendizado de Máquina: O uso de algoritmos de aprendizado de máquina e técnicas de IA para automatizar tarefas, melhorar a precisão das análises e prever resultados.\n",
        "\n",
        "* Big Data e Nuvem: O aumento exponencial do volume de dados tem levado ao uso crescente de soluções em nuvem para armazenamento e processamento escalável.\n",
        "\n",
        "* IoT (Internet of Things): O crescimento da IoT fornece mais dados provenientes de dispositivos conectados, abrindo novas possibilidades de análise.\n",
        "\n",
        "* Ética e Responsabilidade: Maior foco na consideração das questões éticas e na responsabilidade ao lidar com dados sensíveis e tomar decisões baseadas em algoritmos.\n",
        "\n",
        "* Automação e Análise em Tempo Real: A demanda por análises em tempo real está aumentando, impulsionando o desenvolvimento de sistemas de análise automatizados e em tempo real.\n",
        "\n",
        "\n",
        "\n",
        "\n",
        "\n"
      ]
    },
    {
      "cell_type": "markdown",
      "metadata": {
        "id": "Mib3hUF_UnC_"
      },
      "source": [
        "## Importar bibliotecas"
      ]
    },
    {
      "cell_type": "code",
      "execution_count": 86,
      "metadata": {},
      "outputs": [],
      "source": [
        "import pandas as pd\n",
        "import numpy as np\n",
        "import matplotlib.pyplot as plt"
      ]
    },
    {
      "cell_type": "markdown",
      "metadata": {
        "id": "7JoNlb4WU6Yc"
      },
      "source": [
        "## Pandas\n",
        "\n",
        "O pandas é uma biblioteca popular de código aberto para a linguagem de programação Python, criada para facilitar a manipulação e análise de dados de forma eficiente e flexível. Ele oferece estruturas de dados poderosas e ferramentas de análise que permitem aos usuários trabalhar com dados tabulares, séries temporais e outras estruturas de dados complexas de maneira intuitiva.\n",
        "\n"
      ]
    },
    {
      "cell_type": "markdown",
      "metadata": {
        "id": "ffm3PaPFVlGm"
      },
      "source": [
        "### Series\n",
        "\n",
        "\n",
        "Uma Series é uma estrutura de dados unidimensional semelhante a um array, mas com a capacidade adicional de ter um rótulo (índice) associado a cada elemento. Isso significa que cada valor na Series possui um rótulo exclusivo que permite acessar os dados de forma mais intuitiva do que usando índices numéricos.\n",
        "\n",
        "* Series podem ser criadas a partir de listas, arrays NumPy ou dicionários.\n",
        "* As Series são úteis para representar dados em sequência unidimensional.\n",
        "* O índice padrão é numérico, mas você pode atribuir rótulos personalizados para identificar os elementos.\n"
      ]
    },
    {
      "cell_type": "code",
      "execution_count": 87,
      "metadata": {
        "colab": {
          "base_uri": "https://localhost:8080/"
        },
        "id": "K0MkT862Ut8C",
        "outputId": "80147d48-150c-4d7b-898b-ea3d5381f878"
      },
      "outputs": [
        {
          "data": {
            "text/plain": [
              "maçã       10\n",
              "banana     15\n",
              "laranja     8\n",
              "morango    12\n",
              "dtype: int64"
            ]
          },
          "execution_count": 87,
          "metadata": {},
          "output_type": "execute_result"
        }
      ],
      "source": [
        "# Criando uma Series a partir de uma lista\n",
        "frutas = ['maçã', 'banana', 'laranja', 'morango']\n",
        "quantidades = [10, 15, 8, 12]\n",
        "serie_frutas = pd.Series(quantidades, index=frutas)\n",
        "\n",
        "serie_frutas"
      ]
    },
    {
      "cell_type": "markdown",
      "metadata": {
        "id": "RwyIN5icV7w9"
      },
      "source": [
        "#### Acessando elementos da Series"
      ]
    },
    {
      "cell_type": "code",
      "execution_count": 88,
      "metadata": {
        "colab": {
          "base_uri": "https://localhost:8080/"
        },
        "id": "qrVcycXeVR1V",
        "outputId": "a0da2dac-9409-4c34-807e-b859d0e34a9e"
      },
      "outputs": [
        {
          "name": "stdout",
          "output_type": "stream",
          "text": [
            "10\n",
            "15\n"
          ]
        },
        {
          "name": "stderr",
          "output_type": "stream",
          "text": [
            "/tmp/ipykernel_23190/688188554.py:2: FutureWarning: Series.__getitem__ treating keys as positions is deprecated. In a future version, integer keys will always be treated as labels (consistent with DataFrame behavior). To access a value by position, use `ser.iloc[pos]`\n",
            "  print(serie_frutas[1])       # Output: 15\n"
          ]
        }
      ],
      "source": [
        "print(serie_frutas['maçã'])  # Output: 10\n",
        "print(serie_frutas[1])       # Output: 15\n"
      ]
    },
    {
      "cell_type": "markdown",
      "metadata": {
        "id": "in853V_ZWEZn"
      },
      "source": [
        "### Dataframes\n",
        "\n",
        "Um DataFrame é uma estrutura de dados bidimensional semelhante a uma planilha ou tabela de banco de dados, onde os dados são organizados em linhas e colunas. Cada coluna em um DataFrame é uma Series. Os DataFrames permitem trabalhar com dados tabulares, manipular, analisar e visualizar informações de forma eficiente.\n",
        "\n",
        "* Os DataFrames podem ser criados a partir de dicionários, listas de dicionários ou importados de arquivos CSV, Excel, entre outros formatos.\n",
        "* São amplamente utilizados para análises de dados, como filtragem, agrupamento, combinação e agregação.\n",
        "* Os rótulos das linhas e colunas permitem acessar dados de forma clara e organizada.\n"
      ]
    },
    {
      "cell_type": "code",
      "execution_count": 89,
      "metadata": {
        "colab": {
          "base_uri": "https://localhost:8080/",
          "height": 175
        },
        "id": "pJOqd1-4WAzU",
        "outputId": "c5083b6c-9d81-4c48-dda8-b100326311da"
      },
      "outputs": [
        {
          "data": {
            "text/html": [
              "<div>\n",
              "<style scoped>\n",
              "    .dataframe tbody tr th:only-of-type {\n",
              "        vertical-align: middle;\n",
              "    }\n",
              "\n",
              "    .dataframe tbody tr th {\n",
              "        vertical-align: top;\n",
              "    }\n",
              "\n",
              "    .dataframe thead th {\n",
              "        text-align: right;\n",
              "    }\n",
              "</style>\n",
              "<table border=\"1\" class=\"dataframe\">\n",
              "  <thead>\n",
              "    <tr style=\"text-align: right;\">\n",
              "      <th></th>\n",
              "      <th>Nome</th>\n",
              "      <th>Idade</th>\n",
              "      <th>Cidade</th>\n",
              "    </tr>\n",
              "  </thead>\n",
              "  <tbody>\n",
              "    <tr>\n",
              "      <th>0</th>\n",
              "      <td>João</td>\n",
              "      <td>25</td>\n",
              "      <td>São Paulo</td>\n",
              "    </tr>\n",
              "    <tr>\n",
              "      <th>1</th>\n",
              "      <td>Maria</td>\n",
              "      <td>30</td>\n",
              "      <td>Rio de Janeiro</td>\n",
              "    </tr>\n",
              "    <tr>\n",
              "      <th>2</th>\n",
              "      <td>Pedro</td>\n",
              "      <td>22</td>\n",
              "      <td>Belo Horizonte</td>\n",
              "    </tr>\n",
              "    <tr>\n",
              "      <th>3</th>\n",
              "      <td>Laura</td>\n",
              "      <td>28</td>\n",
              "      <td>Porto Alegre</td>\n",
              "    </tr>\n",
              "  </tbody>\n",
              "</table>\n",
              "</div>"
            ],
            "text/plain": [
              "    Nome  Idade          Cidade\n",
              "0   João     25       São Paulo\n",
              "1  Maria     30  Rio de Janeiro\n",
              "2  Pedro     22  Belo Horizonte\n",
              "3  Laura     28    Porto Alegre"
            ]
          },
          "execution_count": 89,
          "metadata": {},
          "output_type": "execute_result"
        }
      ],
      "source": [
        "# Criando um DataFrame a partir de um dicionário\n",
        "dados = {\n",
        "    'Nome': ['João', 'Maria', 'Pedro', 'Laura'],\n",
        "    'Idade': [25, 30, 22, 28],\n",
        "    'Cidade': ['São Paulo', 'Rio de Janeiro', 'Belo Horizonte', 'Porto Alegre']\n",
        "}\n",
        "df = pd.DataFrame(dados)\n",
        "df"
      ]
    },
    {
      "cell_type": "markdown",
      "metadata": {
        "id": "LlYF8EMcXYhf"
      },
      "source": [
        "### Ler arquivos CSV\n",
        "\n",
        "O pandas oferece diversas funções para importar e exportar dados em diferentes formatos, o que torna a manipulação de dados em Python muito mais eficiente.\n",
        "\n",
        "* read_csv(): Essa função é usada para importar dados de arquivos CSV (Comma-Separated Values), onde os valores são separados por vírgulas ou por outro delimitador especificado.\n",
        "\n",
        "* read_excel(): Essa função é usada para importar dados de arquivos Excel, onde os dados são organizados em planilhas.\n",
        "\n",
        "* read_json(): Essa função é usada para importar dados de arquivos JSON (JavaScript Object Notation).\n",
        "\n",
        "* read_sql(): Essa função é usada para importar dados de bancos de dados SQL usando consultas SQL.\n",
        "\n"
      ]
    },
    {
      "cell_type": "code",
      "execution_count": null,
      "metadata": {
        "colab": {
          "base_uri": "https://localhost:8080/",
          "height": 423
        },
        "id": "bRtbLpZNWTSp",
        "outputId": "66492929-6478-4d0e-f57a-d440b4cc0c3c"
      },
      "outputs": [],
      "source": [
        "# Caminho do arquivo\n",
        "url = 'https://raw.githubusercontent.com/lucasvoltera/minicurso-python-secompp/main/dados/pokemon_data.csv'\n",
        "\n",
        "# Leitura do arquivo CSV\n",
        "df_pokemon = pd.read_csv(url)\n",
        "\n",
        "# Visualizando o DataFrame\n",
        "df_pokemon"
      ]
    },
    {
      "cell_type": "markdown",
      "metadata": {
        "id": "gB_bp8JlmbDN"
      },
      "source": [
        "**\\#**: ID do pokemon\n",
        "\n",
        "**Name**: Nome do pokemon\n",
        "\n",
        "**Type 1**: Cada pokemon tem um tipo que define quais são suas fraquezas e resistências\n",
        "\n",
        "**Type 2**: alguns pokemons possuem dois tipos\n",
        "\n",
        "**Total**: soma de todos os status\n",
        "\n",
        "**HP**: hit points, define o quanto de porrada o pokemon consegue tomar\n",
        "\n",
        "**Attack**: a métrica para ataques do tipo normal (eg. Scratch, Punch)\n",
        "\n",
        "**Defense**: a métrica de resistência contra ataques do tipo normal\n",
        "\n",
        "**SP Atk**: a métrica de ataques especiais (e.g. fire blast, bubble beam)\n",
        "\n",
        "**SP Def**: a metrica de resistência contra ataques especiais\n",
        "\n",
        "**Speed**: a metrica do quão rápido é o pokemon\n",
        "\n",
        "**Generation** indica a qual geração o pokemon pertence\n",
        "\n",
        "**Legendary** indica se o pokemon é lendário ou não\n"
      ]
    },
    {
      "cell_type": "markdown",
      "metadata": {
        "id": "l-dVRVngmheO"
      },
      "source": [
        "### Conhecendo o DataFrame"
      ]
    },
    {
      "cell_type": "markdown",
      "metadata": {
        "id": "vShCwHprnesu"
      },
      "source": [
        "#### head() e tail():\n",
        "\n",
        "Esses métodos permitem visualizar as primeiras ou últimas linhas do DataFrame, o que é útil para ter uma visão rápida dos dados. O método head() exibe as primeiras 5 linhas por padrão, enquanto o método tail() exibe as últimas 5 linhas. Entretanto, é possível passar por parâmetro em ambas as funções a quantidade de linhas a serem exibidas\n",
        "\n"
      ]
    },
    {
      "cell_type": "code",
      "execution_count": null,
      "metadata": {
        "colab": {
          "base_uri": "https://localhost:8080/",
          "height": 143
        },
        "id": "tqvOnuixmuNp",
        "outputId": "722e57ca-446a-4287-bf6d-e26da839fcd8"
      },
      "outputs": [],
      "source": [
        "# Visualização das primeiras 3 linhas do DataFrame\n",
        "df_pokemon.head(3)"
      ]
    },
    {
      "cell_type": "code",
      "execution_count": null,
      "metadata": {
        "colab": {
          "base_uri": "https://localhost:8080/",
          "height": 112
        },
        "id": "wxAz2GMCmz7F",
        "outputId": "688b2e80-13ad-4c33-cd74-847404f13aa7"
      },
      "outputs": [],
      "source": [
        "# Visualização das últimas 2 linhas do DataFrame\n",
        "df_pokemon.tail(2)"
      ]
    },
    {
      "cell_type": "code",
      "execution_count": null,
      "metadata": {
        "colab": {
          "base_uri": "https://localhost:8080/"
        },
        "id": "r7j-EznDoWDd",
        "outputId": "51902a6b-c9c1-433a-cae1-1ae1a5ce3e7c"
      },
      "outputs": [],
      "source": [
        "df_pokemon.columns"
      ]
    },
    {
      "cell_type": "markdown",
      "metadata": {
        "id": "aq4ntceOn3e7"
      },
      "source": [
        "#### info():\n",
        "\n",
        "O método info() fornece informações sobre o DataFrame, incluindo o tipo de dados de cada coluna, o número de valores não nulos e a quantidade de memória utilizada pelo DataFrame.\n"
      ]
    },
    {
      "cell_type": "code",
      "execution_count": null,
      "metadata": {
        "colab": {
          "base_uri": "https://localhost:8080/"
        },
        "id": "ACtGIk6Wm-uK",
        "outputId": "00eee9fd-5cc5-4e08-b86b-1871271f9d68"
      },
      "outputs": [],
      "source": [
        "# Informações do DataFrame\n",
        "df_pokemon.info()"
      ]
    },
    {
      "cell_type": "markdown",
      "metadata": {
        "id": "RhQjvQXVoF5n"
      },
      "source": [
        "#### describe():\n",
        "\n",
        "O método describe() fornece um resumo estatístico das colunas numéricas do DataFrame, incluindo contagem, média, desvio padrão, valor mínimo, quartis e valor máximo. Essa é uma ótima maneira de ter uma visão geral dos dados numéricos.\n",
        "\n",
        "**count**: conta a quantidade de itens\n",
        "\n",
        "**mean**: o valor médio - fornece um possível valor representativo de uma distribuição\n",
        "\n",
        "**std**: o desvio padrão - fornece o quanto que os valores estão distantes da média\n",
        "\n",
        "**min**: mostra o valor mínimo (também dito de 0 percentil)\n",
        "\n",
        "**25%** mostra o valor do primeiro quartil, a mediana entre o valor minimo e a mediana da distribuição toda\n",
        "\n",
        "**50%** mostra o valor da mediana\n",
        "\n",
        "**75%** mostra o valor do terceiro quartil, a mediana do valor maximo com o valor da mediana da distribuição toda\n",
        "\n",
        "**max:** mostra o valor máximo (também dito de 100 percentil)"
      ]
    },
    {
      "cell_type": "code",
      "execution_count": null,
      "metadata": {
        "colab": {
          "base_uri": "https://localhost:8080/",
          "height": 300
        },
        "id": "15EEk4e5oI-w",
        "outputId": "662c4d85-add1-47c1-9fbe-31afa1e1fca3"
      },
      "outputs": [],
      "source": [
        "# Resumo estatístico das colunas numéricas do DataFrame\n",
        "df_pokemon.describe()"
      ]
    },
    {
      "cell_type": "markdown",
      "metadata": {
        "id": "jlt1f6KCtKy-"
      },
      "source": [
        "### Iterar Dataframes\n",
        "\n",
        "o Pandas oferece várias maneiras de iterar sobre linhas e/ou colunas em DataFrames para acessar, manipular ou realizar cálculos específicos nos dados. Existem diferentes métodos no Pandas para iterar sobre linhas e colunas em um DataFrame:\n",
        "\n",
        "1. Iteração de Linhas com iterrows(): O método iterrows() permite percorrer o DataFrame linha por linha, retornando um par (índice, série) onde o índice é o índice da linha e a série é uma representação da linha como um objeto Series.\n",
        "\n",
        "\n",
        "2. Iteração de Colunas com iteritems(): O método iteritems() permite percorrer o DataFrame coluna por coluna, retornando um par (nome da coluna, série) onde o nome da coluna é o rótulo da coluna e a série é uma representação da coluna como um objeto Series.\n",
        "\n"
      ]
    },
    {
      "cell_type": "code",
      "execution_count": null,
      "metadata": {
        "colab": {
          "base_uri": "https://localhost:8080/"
        },
        "id": "7uYOeYTNvLHx",
        "outputId": "7dec0ac4-e52e-4483-d980-711bb644ab21"
      },
      "outputs": [],
      "source": [
        "for col_name, series in df_pokemon.items(): ##aqui estamos iterando os valores numéricos de todos os atributos do dataframe\n",
        "    if pd.api.types.is_numeric_dtype(series):\n",
        "        media = series.mean() ##aqui estamos calculando a média de cada atributo com tipo numérico\n",
        "        print(f\"Média de {col_name}: {media:.2f}\")"
      ]
    },
    {
      "cell_type": "code",
      "execution_count": null,
      "metadata": {
        "colab": {
          "base_uri": "https://localhost:8080/"
        },
        "id": "8FyazUiPupOz",
        "outputId": "b77ca44e-ac53-455f-b9fa-8a38ecabf8fb"
      },
      "outputs": [],
      "source": [
        "for index, row in df_pokemon.iterrows():\n",
        "    print(f\"{row['Name']} - {row['Type 1']}\")"
      ]
    },
    {
      "cell_type": "markdown",
      "metadata": {
        "id": "aEtmuVo2aa7N"
      },
      "source": [
        "### Manipulação de Dados\n",
        "\n",
        "A manipulação de dados é uma etapa essencial na análise de dados, onde você extrai, seleciona e filtra os dados relevantes para realizar análises específicas."
      ]
    },
    {
      "cell_type": "markdown",
      "metadata": {
        "id": "lZybfAOvakqe"
      },
      "source": [
        "#### Filtragem\n",
        "\n",
        "A filtragem de dados é realizada usando condições lógicas para selecionar apenas as linhas que atendem a determinados critérios. Essas condições podem envolver comparações numéricas, comparações de texto, condições compostas e outras operações lógicas."
      ]
    },
    {
      "cell_type": "markdown",
      "metadata": {
        "id": "eo8HNc8Lz89w"
      },
      "source": [
        "##### Filtragem simples"
      ]
    },
    {
      "cell_type": "code",
      "execution_count": null,
      "metadata": {
        "colab": {
          "base_uri": "https://localhost:8080/"
        },
        "id": "DvbWYw4rp39f",
        "outputId": "d47a8935-bf79-4dd7-c36c-fd696ff09ef9"
      },
      "outputs": [],
      "source": [
        "## Filtrar uma coluna pela coluna Name\n",
        "df_pokemon['Name']"
      ]
    },
    {
      "cell_type": "markdown",
      "metadata": {
        "id": "-QxswkSQcAti"
      },
      "source": [
        "como retorna uma \"lista\", é possível filtrar essa lista utilizando a mesma notação de index para \"cortar\" a lista\n",
        "\n",
        "Só para lembrar: a notação de index é [de onde : até onde]"
      ]
    },
    {
      "cell_type": "code",
      "execution_count": null,
      "metadata": {
        "colab": {
          "base_uri": "https://localhost:8080/"
        },
        "id": "AnIGdUNcbsW9",
        "outputId": "a73c8229-4b3a-4670-8d4a-7ebed0c83d06"
      },
      "outputs": [],
      "source": [
        "## Filtrar por coluna e por linha: todas as linhas entre o indice 50 a 59 da coluna Name\n",
        "df_pokemon['Name'][50:60]"
      ]
    },
    {
      "cell_type": "code",
      "execution_count": null,
      "metadata": {
        "colab": {
          "base_uri": "https://localhost:8080/",
          "height": 206
        },
        "id": "jbvliGiTp6tB",
        "outputId": "8013a47b-4566-4d17-9d2e-b0052e770c76"
      },
      "outputs": [],
      "source": [
        "## Filtrar mais de uma coluna ao mesmo tempo\n",
        "df_pokemon[['Name', 'Type 1']].head()"
      ]
    },
    {
      "cell_type": "code",
      "execution_count": null,
      "metadata": {
        "colab": {
          "base_uri": "https://localhost:8080/",
          "height": 363
        },
        "id": "zXXBMM_hcQKT",
        "outputId": "fbf7f9dd-35aa-44ff-ecd6-95aef3e5e1f0"
      },
      "outputs": [],
      "source": [
        "df_pokemon[10:20]"
      ]
    },
    {
      "cell_type": "markdown",
      "metadata": {
        "id": "ubRapyER2LAK"
      },
      "source": [
        "##### Filtragem avançada\n",
        "\n",
        "* Filtragem com base em condição simples\n",
        "* Filtragem com base em múltiplas condições\n",
        "* Filtragem com base em correspondência de texto (str.contains())\n",
        "* Filtragem com base em listas de valores (isin())\n",
        "* Filtragem com base em valores nulos ou não nulos (isnull() ou notnull())\n"
      ]
    },
    {
      "cell_type": "code",
      "execution_count": null,
      "metadata": {
        "colab": {
          "base_uri": "https://localhost:8080/",
          "height": 423
        },
        "id": "nQkJeLc-2OBl",
        "outputId": "772c8bfc-a60e-414b-a04f-8b5bad60f61c"
      },
      "outputs": [],
      "source": [
        "# Filtragem com base em condição simples (tipo 1 de grama)\n",
        "df_filtrado = df_pokemon[df_pokemon['Type 1'] == 'Grass']\n",
        "df_filtrado"
      ]
    },
    {
      "cell_type": "code",
      "execution_count": null,
      "metadata": {
        "colab": {
          "base_uri": "https://localhost:8080/",
          "height": 423
        },
        "id": "AWaM3Uyx30bm",
        "outputId": "438ff92b-a0d5-4475-bc77-baa6f6b60f72"
      },
      "outputs": [],
      "source": [
        "# Filtragem com base em múltiplas condições (tipo 1 de grama, tipo 2 venenoso e da primeira geração)\n",
        "df_filtrado = df_pokemon[(df_pokemon['Type 1'] == 'Grass') | (df_pokemon['Type 1'] == 'Poison') & (df_pokemon['Generation'] >= 1)]\n",
        "df_filtrado"
      ]
    },
    {
      "cell_type": "code",
      "execution_count": null,
      "metadata": {
        "colab": {
          "base_uri": "https://localhost:8080/",
          "height": 423
        },
        "id": "nvD-hUJcbL_B",
        "outputId": "c98fc969-ad64-488d-f7f4-634c353c5af2"
      },
      "outputs": [],
      "source": [
        "# Filtragem com base em correspondência de texto (pokemons cujo o tipo 1 é igual a grama)\n",
        "df_filtrado = df_pokemon[df_pokemon['Type 1'].str.contains('Grass')]\n",
        "df_filtrado"
      ]
    },
    {
      "cell_type": "code",
      "execution_count": null,
      "metadata": {
        "colab": {
          "base_uri": "https://localhost:8080/",
          "height": 423
        },
        "id": "dBRvn1DJkHia",
        "outputId": "ce15c705-9364-4ab8-90a1-1d1aaf531ee7"
      },
      "outputs": [],
      "source": [
        "# Filtragem com base em correspondência de texto (pokemons cujo o tipo 1 é grama ou agua ou fogo)\n",
        "df_filtrado = df_pokemon[df_pokemon['Type 1'].str.contains('Grass|Water|Fire')]\n",
        "df_filtrado"
      ]
    },
    {
      "cell_type": "code",
      "execution_count": null,
      "metadata": {
        "colab": {
          "base_uri": "https://localhost:8080/",
          "height": 423
        },
        "id": "wfoWOjP6kcn2",
        "outputId": "91a515c8-3bf3-4cca-ec63-c41774daf48d"
      },
      "outputs": [],
      "source": [
        "# Filtragem com base em valores nulos (pokemons que tem tipo 2 null)\n",
        "df_filtrado = df_pokemon[df_pokemon['Type 2'].isnull()]\n",
        "df_filtrado"
      ]
    },
    {
      "cell_type": "markdown",
      "metadata": {
        "id": "ijC0Sakk5-f0"
      },
      "source": [
        "##### loc e iloc\n",
        "\n",
        "* A função loc é usada para filtrar os dados com base nos rótulos (ou índices) das linhas e colunas. O formato geral para usar o loc é dataframe.loc[linhas, colunas], onde linhas e colunas podem ser rótulos únicos ou listas de rótulos.\n",
        "\n",
        "\n",
        "* A função iloc é usada para filtrar os dados com base em índices numéricos das linhas e colunas. O formato geral para usar o iloc é dataframe.iloc[linhas, colunas], onde linhas e colunas são inteiros ou fatias.\n",
        "\n"
      ]
    },
    {
      "cell_type": "code",
      "execution_count": null,
      "metadata": {
        "colab": {
          "base_uri": "https://localhost:8080/",
          "height": 237
        },
        "id": "6jGzYpwOkxol",
        "outputId": "336c0329-475a-46a4-af78-78457dec87cc"
      },
      "outputs": [],
      "source": [
        "# Criando um DataFrame de exemplo\n",
        "data = {\n",
        "    'Nome': ['Alice', 'Bob', 'Carol', 'David', 'Eva'],\n",
        "    'Idade': [25, 30, 22, 35, 28],\n",
        "    'Cidade': ['São Paulo', 'Rio de Janeiro', 'São Paulo', 'Belo Horizonte', 'Curitiba']\n",
        "}\n",
        "\n",
        "df = pd.DataFrame(data)\n",
        "# Definindo a coluna 'Nome' como índice\n",
        "df.set_index('Nome', inplace=True)\n",
        "df"
      ]
    },
    {
      "cell_type": "code",
      "execution_count": null,
      "metadata": {
        "colab": {
          "base_uri": "https://localhost:8080/"
        },
        "id": "5G4CaB9F6x_H",
        "outputId": "5398a7b7-9e3a-4804-986a-fcae90fe5e76"
      },
      "outputs": [],
      "source": [
        "# Usando o loc para filtrar linhas e colunas\n",
        "# Selecionando a linha com rótulo 'Alice' e colunas 'Idade' e 'Cidade'\n",
        "resultado_loc = df.loc['Alice', :]\n",
        "resultado_loc"
      ]
    },
    {
      "cell_type": "code",
      "execution_count": null,
      "metadata": {
        "colab": {
          "base_uri": "https://localhost:8080/",
          "height": 237
        },
        "id": "CkOcWigx69UK",
        "outputId": "9832da7b-f8f0-44ea-dedf-62deee28baaf"
      },
      "outputs": [],
      "source": [
        "resultado_loc = df.loc[:, ['Idade']]\n",
        "resultado_loc"
      ]
    },
    {
      "cell_type": "code",
      "execution_count": null,
      "metadata": {
        "colab": {
          "base_uri": "https://localhost:8080/",
          "height": 143
        },
        "id": "2ju1VmGc7BVc",
        "outputId": "2d454c1d-b215-47d4-fb6d-37826d5b3694"
      },
      "outputs": [],
      "source": [
        "resultado_loc = df.loc[['David', 'Bob'], ['Idade']]\n",
        "resultado_loc"
      ]
    },
    {
      "cell_type": "code",
      "execution_count": null,
      "metadata": {
        "colab": {
          "base_uri": "https://localhost:8080/",
          "height": 143
        },
        "id": "vbiNlD7h9KAT",
        "outputId": "43585d2a-783b-4feb-fde8-22c9cdef8452"
      },
      "outputs": [],
      "source": [
        "resultado_iloc = df.iloc[0:2, :]\n",
        "resultado_iloc"
      ]
    },
    {
      "cell_type": "code",
      "execution_count": null,
      "metadata": {
        "colab": {
          "base_uri": "https://localhost:8080/",
          "height": 237
        },
        "id": "T1PLn9m69Ysd",
        "outputId": "a00f5436-5449-476c-bd69-6e1bda95df39"
      },
      "outputs": [],
      "source": [
        "resultado_iloc = df.iloc[:, 0:1]\n",
        "resultado_iloc"
      ]
    },
    {
      "cell_type": "code",
      "execution_count": null,
      "metadata": {
        "colab": {
          "base_uri": "https://localhost:8080/",
          "height": 237
        },
        "id": "As-lTttF9nPh",
        "outputId": "b0adf800-01f6-45ee-d0a7-710b17fc3e7c"
      },
      "outputs": [],
      "source": [
        "resultado_iloc = df.iloc[:, :]\n",
        "resultado_iloc"
      ]
    },
    {
      "cell_type": "code",
      "execution_count": null,
      "metadata": {
        "colab": {
          "base_uri": "https://localhost:8080/",
          "height": 519
        },
        "id": "-i2s_ufQ93J6",
        "outputId": "36ea3056-2615-4d17-ad73-eb3732e39aa8"
      },
      "outputs": [],
      "source": [
        "# Filtrar os Pokémon com tipo \"Grass\" e \"Poison\" usando loc\n",
        "filtro_tipo = df_pokemon.loc[(df_pokemon['Type 1'] == 'Grass') & (df_pokemon['Type 2'] == 'Poison')]\n",
        "filtro_tipo"
      ]
    },
    {
      "cell_type": "markdown",
      "metadata": {
        "id": "WiY6T7IsrbXz"
      },
      "source": [
        "#### Ordenação\n",
        "\n",
        "A ordenação pode ser feita em ordem crescente ou decrescente. Na ordenação crescente, os valores são classificados em ordem ascendente, enquanto na ordenação decrescente, os valores são classificados em ordem descendente. O Pandas permite especificar a ordem desejada usando o parâmetro ascending=True (para ordenação crescente) ou ascending=False (para ordenação decrescente)."
      ]
    },
    {
      "cell_type": "markdown",
      "metadata": {
        "id": "miSr1qWJrm0w"
      },
      "source": [
        "##### Ordenação por coluna\n",
        "\n",
        "Você pode ordenar os dados com base em uma ou mais colunas específicas do DataFrame. A ordenação por várias colunas é útil quando você deseja classificar os valores com base em um critério primário e, em seguida, usar um critério secundário para ordenar em caso de empate.\n"
      ]
    },
    {
      "cell_type": "code",
      "execution_count": null,
      "metadata": {
        "colab": {
          "base_uri": "https://localhost:8080/",
          "height": 206
        },
        "id": "9X0IMxWArsMX",
        "outputId": "a4fdc39e-9b1f-4fed-d926-06fb80fc3e8c"
      },
      "outputs": [],
      "source": [
        "# Ordenação crescente pelo valor da coluna \"HP\"\n",
        "ordenado_crescente = df_pokemon.sort_values(by='HP', ascending=True)\n",
        "ordenado_crescente.head()"
      ]
    },
    {
      "cell_type": "code",
      "execution_count": null,
      "metadata": {
        "colab": {
          "base_uri": "https://localhost:8080/",
          "height": 206
        },
        "id": "EWSGOBnJsB89",
        "outputId": "4fe2601b-da12-4631-e2b6-edc389be5c78"
      },
      "outputs": [],
      "source": [
        "# Ordenação decrescente pelo valor da coluna \"Attack\"\n",
        "ordenado_decrescente = df_pokemon.sort_values(by='Attack', ascending=False)\n",
        "ordenado_decrescente.head()"
      ]
    },
    {
      "cell_type": "code",
      "execution_count": null,
      "metadata": {
        "colab": {
          "base_uri": "https://localhost:8080/",
          "height": 206
        },
        "id": "_g1qrLOvsOAH",
        "outputId": "03e6313b-c5f8-4410-f4f8-2b770059dc10"
      },
      "outputs": [],
      "source": [
        "# Ordenação pelo valor da coluna \"Defense\" em ordem crescente e, em caso de empate, pela coluna \"Speed\" em ordem decrescente\n",
        "ordenado_multiplas_colunas = df_pokemon.sort_values(by=['Defense', 'Speed'], ascending=[True, False])\n",
        "ordenado_multiplas_colunas.head()"
      ]
    },
    {
      "cell_type": "markdown",
      "metadata": {
        "id": "iQRP5V4ml4Re"
      },
      "source": [
        "#### Agrupamentos e Agregações\n",
        "\n",
        "* Agrupamento é o processo de dividir os dados em grupos com base em uma ou mais colunas-chave (colunas de agrupamento). Isso permite que você crie subconjuntos de dados que compartilham valores comuns em colunas específicas. O método groupby do Pandas é usado para realizar o agrupamento dos dados.\n",
        "\n",
        "* Agregações são operações que combinam ou resumem os dados de cada grupo em um valor único ou em um novo conjunto de dados resumido. Essas operações podem ser funções estatísticas, operações matemáticas ou funções personalizadas definidas pelo usuário. O Pandas oferece o método agg para realizar agregações nos grupos criados com o groupby.\n"
      ]
    },
    {
      "cell_type": "markdown",
      "metadata": {
        "id": "hvLNW6JMx5pL"
      },
      "source": [
        "##### groupby"
      ]
    },
    {
      "cell_type": "code",
      "execution_count": null,
      "metadata": {
        "colab": {
          "base_uri": "https://localhost:8080/"
        },
        "id": "7XZHCVDz-j9A",
        "outputId": "edc90197-52dd-41c5-9766-e06473b44768"
      },
      "outputs": [],
      "source": [
        "# Agrupamento dos Pokémon pelo valor da coluna \"type1\"\n",
        "grupo_tipo = df_pokemon.groupby('Type 1')\n",
        "\n",
        "# Exibir os grupos criados\n",
        "for tipo, dados in grupo_tipo:\n",
        "    print(f\"Tipo: {tipo}\")\n",
        "    print(dados[[\"Name\", \"Type 1\"]].head())  # Exibir as 5 primeiras linhas de cada grupo\n",
        "    print()\n"
      ]
    },
    {
      "cell_type": "code",
      "execution_count": null,
      "metadata": {
        "colab": {
          "base_uri": "https://localhost:8080/"
        },
        "id": "UHV_P8E8vCfE",
        "outputId": "145f520f-3bbc-4797-e595-166cf25e521c"
      },
      "outputs": [],
      "source": [
        "# Agrupamento dos Pokémon pelo valor da coluna \"Type 1\" e contagem de cada tipo\n",
        "contagem_tipo = grupo_tipo.size()\n",
        "contagem_tipo\n"
      ]
    },
    {
      "cell_type": "code",
      "execution_count": null,
      "metadata": {
        "colab": {
          "base_uri": "https://localhost:8080/",
          "height": 700
        },
        "id": "_iPgOlEYwXgl",
        "outputId": "18c3259a-1e01-47b2-9d89-ded737e6e498"
      },
      "outputs": [],
      "source": [
        "# Agregação com função predefinida (média do ataque dos Pokémon de cada tipo)\n",
        "media_grupos = grupo_tipo.mean(numeric_only=True)\n",
        "print(media_grupos)"
      ]
    },
    {
      "cell_type": "code",
      "execution_count": null,
      "metadata": {
        "colab": {
          "base_uri": "https://localhost:8080/",
          "height": 645
        },
        "id": "qEBCgmsaxNU2",
        "outputId": "2a49c047-7159-48fe-f68b-b5da13ee4000"
      },
      "outputs": [],
      "source": [
        "## Ascending = False para ordenar do maior para o menor e True para ordenar do menor para o maior.\n",
        "media_grupos.sort_values('Attack', ascending = False)"
      ]
    },
    {
      "cell_type": "code",
      "execution_count": null,
      "metadata": {
        "colab": {
          "base_uri": "https://localhost:8080/"
        },
        "id": "qQcQoEQxqBQ2",
        "outputId": "78b96e47-b1f1-472f-f5c4-b7d47aed72fc"
      },
      "outputs": [],
      "source": [
        "# Agregação com função predefinida (média do ataque dos Pokémon de cada tipo)\n",
        "media_ataque_tipo = grupo_tipo['Attack'].mean()\n",
        "media_ataque_tipo"
      ]
    },
    {
      "cell_type": "markdown",
      "metadata": {
        "id": "bMtuyOahx-8y"
      },
      "source": [
        "##### agg"
      ]
    },
    {
      "cell_type": "code",
      "execution_count": null,
      "metadata": {
        "colab": {
          "base_uri": "https://localhost:8080/",
          "height": 731
        },
        "id": "CFeRofM5rr4P",
        "outputId": "c00f5eea-90de-457c-eb5c-2ce86f5c811a"
      },
      "outputs": [],
      "source": [
        "# Agregação com múltiplas funções predefinidas (soma e média da defesa e do HP dos Pokémon de cada tipo)\n",
        "##agregacoes_multiplas = grupo_tipo['HP', 'Attack', 'Defense'].agg(['mean', 'median', 'std', 'min', 'max']) ## esse erro diz: “Cannot subset columns with a tuple with more than one element. Use a list instead.” Isso ocorre porque eu tô tentando usar uma tupla para selecionar múltiplas colunas no DataFrame do pandas, o que não é permitido.\n",
        "\n",
        "agregacoes_multiplas = grupo_tipo[['HP', 'Attack', 'Defense']].agg(['mean', 'median', 'std', 'min', 'max']) ##Para corrigir esse erro, eu usei uma lista em vez de uma tupla para selecionar as colunas.\n",
        "agregacoes_multiplas"
      ]
    },
    {
      "cell_type": "code",
      "execution_count": null,
      "metadata": {
        "colab": {
          "base_uri": "https://localhost:8080/"
        },
        "id": "Syg26zk4tQ-9",
        "outputId": "1b3fe704-5e91-4c3d-99da-6efa6cfd82f4"
      },
      "outputs": [],
      "source": [
        "# Agregação com função personalizada (diferença entre o maior e o menor peso dos Pokémon de cada tipo)\n",
        "def diff_max_min(x):\n",
        "    return x.max() - x.min()\n",
        "\n",
        "agregacao_personalizada = grupo_tipo['Speed'].agg(diff_max_min)\n",
        "agregacao_personalizada"
      ]
    },
    {
      "cell_type": "markdown",
      "metadata": {
        "id": "PDQx4353yhEw"
      },
      "source": [
        "#### Criar e Remover colunas\n",
        "\n",
        "1. Criação de colunas: Para criar uma nova coluna em um DataFrame, você pode atribuir uma série, lista ou array ao nome da nova coluna. A série ou lista deve ter o mesmo número de linhas que o DataFrame, pois cada elemento será atribuído a uma linha específica da nova coluna. Isso permite adicionar informações calculadas, valores constantes ou resultados de funções às colunas do DataFrame.\n",
        "\n",
        "2. Remoção de colunas: Para remover uma coluna de um DataFrame, você pode utilizar o método drop(). O método drop() permite remover uma ou mais colunas especificando seus nomes e usando o parâmetro axis=1."
      ]
    },
    {
      "cell_type": "code",
      "execution_count": null,
      "metadata": {
        "colab": {
          "base_uri": "https://localhost:8080/",
          "height": 423
        },
        "id": "0dIQIwmFuD7B",
        "outputId": "7d47eb7a-8b06-490d-d0cf-8edd7800b008"
      },
      "outputs": [],
      "source": [
        "# Criar a nova coluna \"Total\"\n",
        "#df_pokemon['Total'] = df_pokemon['HP'] + df_pokemon['Attack'] + df_pokemon['Defense'] + df_pokemon['Sp. Atk'] + df_pokemon['Sp. Def'] + df_pokemon['Speed']\n",
        "df_pokemon['Total'] = df_pokemon.iloc[:, 4:10].sum(axis = 1)\n",
        "\n",
        "# df_pokemon[['Name', 'HP', 'Attack', 'Defense', 'Sp. Atk', 'Sp. Def', 'Speed', 'Total']].head()\n",
        "df_pokemon.iloc[:, list(range(4, 10)) + [-1]]"
      ]
    },
    {
      "cell_type": "code",
      "execution_count": null,
      "metadata": {
        "colab": {
          "base_uri": "https://localhost:8080/",
          "height": 423
        },
        "id": "WMvXI1252CB8",
        "outputId": "cb661746-7f53-4439-e46d-bdb71ff76663"
      },
      "outputs": [],
      "source": [
        "# Remover a coluna \"Generation\"\n",
        "df_sem_geracao = df_pokemon.drop(columns=['Generation', 'Legendary'])\n",
        "df_sem_geracao"
      ]
    },
    {
      "cell_type": "markdown",
      "metadata": {
        "id": "qTL-6gQP22vS"
      },
      "source": [
        "#### Reorganizar colunas\n",
        "\n",
        "Reorganizar colunas é útil para ajustar a ordem das colunas em um DataFrame, tornando-o mais legível ou adequado para análise.\n",
        "\n",
        "A forma mais simples de reorganizar colunas é selecionar as colunas desejadas em uma ordem específica e atribuí-las a um novo DataFrame. Isso permite criar um DataFrame com as colunas organizadas da maneira que você deseja.\n"
      ]
    },
    {
      "cell_type": "code",
      "execution_count": null,
      "metadata": {
        "colab": {
          "base_uri": "https://localhost:8080/",
          "height": 206
        },
        "id": "DjQLo9Jk275t",
        "outputId": "daa70426-ae15-4847-81d9-9b7ebe955877"
      },
      "outputs": [],
      "source": [
        "## pegando as colunas e transformando em uma lista\n",
        "cols = list(df_pokemon.columns.values)\n",
        "\n",
        "## reorganizando as colunas da tabela, colocando a coluna total mais perto.\n",
        "df_pokemon = df_pokemon.loc[:, cols[0:4] + [cols[-1]] + cols[4:12]]\n",
        "df_pokemon.head()"
      ]
    },
    {
      "cell_type": "markdown",
      "metadata": {
        "id": "hoWL8Rze6gkj"
      },
      "source": [
        "#### Aplicações de funções\n",
        "\n",
        "o Pandas oferece duas maneiras de aplicar funções a elementos em DataFrames: apply e map. Essas funções são poderosas para realizar operações complexas em dados e são amplamente utilizadas na análise e manipulação de DataFrames.\n",
        "\n",
        "1. apply em DataFrames:\n",
        "O método apply é usado para aplicar uma função a colunas ou linhas do DataFrame. Essa função pode ser definida pelo usuário ou uma função predefinida do Python. A função apply opera ao longo de um eixo do DataFrame (por padrão, o eixo é 0, que representa as linhas). Ele aplica a função a cada coluna (ou linha, se o eixo for 1) e retorna o resultado como uma nova série ou DataFrame.\n",
        "\n",
        "\n",
        "2. map em Series:\n",
        "O método map é usado para aplicar uma função a cada elemento de uma série (uma coluna de um DataFrame). Ele é útil quando você deseja aplicar uma transformação específica a cada valor de uma coluna. O map substitui cada valor pelo resultado da função aplicada a ele.\n"
      ]
    },
    {
      "cell_type": "code",
      "execution_count": null,
      "metadata": {
        "colab": {
          "base_uri": "https://localhost:8080/",
          "height": 423
        },
        "id": "iKzra4ys6rjB",
        "outputId": "2f535012-f76b-42eb-ab59-92183b44ba08"
      },
      "outputs": [],
      "source": [
        "# Função para calcular a média dos atributos\n",
        "def calcular_media(row):\n",
        "    return (row['HP'] + row['Attack'] + row['Defense'] + row['Sp. Atk'] + row['Sp. Def'] + row['Speed']) / 6\n",
        "\n",
        "# Aplicar a função usando apply para criar a nova coluna \"Average_Stats\"\n",
        "df_pokemon['Average_Stats'] = df_pokemon.apply(calcular_media, axis=1)\n",
        "df_pokemon"
      ]
    },
    {
      "cell_type": "code",
      "execution_count": null,
      "metadata": {
        "colab": {
          "base_uri": "https://localhost:8080/",
          "height": 458
        },
        "id": "ZM1v9It87oRA",
        "outputId": "af88a258-4421-4833-9769-926c031ac0d9"
      },
      "outputs": [],
      "source": [
        "# Função para transformar o nome em letras maiúsculas\n",
        "def transformar_maiuscula(nome):\n",
        "    return nome.upper()\n",
        "\n",
        "# Copiar dataframe\n",
        "df_copy = df_pokemon.copy()\n",
        "\n",
        "# Aplicar a função usando map na coluna \"Name\"\n",
        "df_copy['Name'] = df_copy['Name'].map(transformar_maiuscula)\n",
        "df_copy"
      ]
    },
    {
      "cell_type": "markdown",
      "metadata": {
        "id": "sKaTDfuRgb7O"
      },
      "source": [
        "### Operações avançadas com Pandas\n",
        "\n",
        "O Pandas oferece várias operações avançadas para combinar e juntar dados de diferentes fontes ou mesmo do mesmo conjunto de dados. As principais operações são mesclagem, junção e concatenação. Vamos explorar cada uma delas e fornecer exemplos práticos usando o dataset de Pokémon.\n",
        "\n"
      ]
    },
    {
      "cell_type": "markdown",
      "metadata": {
        "id": "dZNvSmbVghoZ"
      },
      "source": [
        "#### Mesclagem (merge)\n",
        "\n",
        "A mesclagem é usada para combinar dois DataFrames com base em uma ou mais colunas em comum. É semelhante à operação SQL JOIN. O Pandas oferece a função merge() para realizar a mesclagem."
      ]
    },
    {
      "cell_type": "code",
      "execution_count": null,
      "metadata": {
        "colab": {
          "base_uri": "https://localhost:8080/",
          "height": 423
        },
        "id": "KmA7ro0jgeEc",
        "outputId": "66c592c6-8a13-4d88-d564-0dc213c22d63"
      },
      "outputs": [],
      "source": [
        "# Criar dois DataFrames com colunas diferentes\n",
        "df1 = df_pokemon[['Name', 'Type 1', 'HP']]\n",
        "df2 = df_pokemon[['Name', 'Type 2', 'Attack']]\n",
        "\n",
        "# Mesclar os DataFrames com base na coluna 'Name'\n",
        "merged_df = pd.merge(df1, df2, on='Name')\n",
        "\n",
        "# Exibir o DataFrame mesclado\n",
        "merged_df\n"
      ]
    },
    {
      "cell_type": "markdown",
      "metadata": {
        "id": "jzj3lwhKgwd1"
      },
      "source": [
        "#### Junção (join)\n",
        "\n",
        "A junção é uma operação similar à mesclagem, mas é realizada com base no índice dos DataFrames. O Pandas oferece a função join() para realizar a junção.\n",
        "\n"
      ]
    },
    {
      "cell_type": "code",
      "execution_count": null,
      "metadata": {
        "colab": {
          "base_uri": "https://localhost:8080/",
          "height": 237
        },
        "id": "f2vEV9OYgzoz",
        "outputId": "14807fa8-514d-45a9-ac9e-b278642c74b8"
      },
      "outputs": [],
      "source": [
        "# Criar dois DataFrames com colunas diferentes e definir 'Name' como índice\n",
        "df1 = df_pokemon.set_index('Name')[['Type 1', 'HP']]\n",
        "df2 = df_pokemon.set_index('Name')[['Type 2', 'Attack']]\n",
        "\n",
        "# Juntar os DataFrames usando 'Name' como índice\n",
        "joined_df = df1.join(df2, lsuffix='_left', rsuffix='_right')\n",
        "\n",
        "# Exibir o DataFrame resultante\n",
        "joined_df.head()\n"
      ]
    },
    {
      "cell_type": "markdown",
      "metadata": {
        "id": "w9NpaI0Dg_-e"
      },
      "source": [
        "#### Concatenação (concat)\n",
        "\n",
        "A concatenação é usada para combinar DataFrames verticalmente ou horizontalmente. É útil quando você deseja adicionar linhas ou colunas a um DataFrame existente. O Pandas oferece a função concat() para realizar a concatenação."
      ]
    },
    {
      "cell_type": "code",
      "execution_count": null,
      "metadata": {
        "colab": {
          "base_uri": "https://localhost:8080/",
          "height": 206
        },
        "id": "4MclfjlIhCvJ",
        "outputId": "4f19da35-06e7-4743-b2a2-1e2ecc49f674"
      },
      "outputs": [],
      "source": [
        "# Criar dois DataFrames com colunas diferentes\n",
        "df1 = df_pokemon[['Name', 'Type 1', 'HP']]\n",
        "df2 = df_pokemon[['Type 2', 'Attack']]\n",
        "\n",
        "# Concatenar os DataFrames horizontalmente\n",
        "concatenated_df = pd.concat([df1, df2], axis=1)\n",
        "\n",
        "\n",
        "# Exibir o DataFrame resultante\n",
        "concatenated_df.head()\n"
      ]
    },
    {
      "cell_type": "markdown",
      "metadata": {
        "id": "o36AyTMmiLlD"
      },
      "source": [
        "#### Diferenças entre eles concat, join e merge\n",
        "\n",
        "Concatenação (concat):\n",
        "\n",
        "* A concatenação é usada para combinar DataFrames verticalmente ou horizontalmente.\n",
        "pd.concat() combina DataFrames ao longo de um eixo, sendo o padrão o eixo 0 (vertical).\n",
        "* É útil quando você deseja adicionar linhas ou colunas a um DataFrame existente.\n",
        "\n",
        "Junção (join):\n",
        "\n",
        "* A junção é uma operação similar à mesclagem, mas é realizada com base no índice dos DataFrames.\n",
        "* É útil para combinar DataFrames que possuem índices em comum.\n",
        "\n",
        "Mesclagem (merge):\n",
        "\n",
        "* A mesclagem é usada para combinar dois DataFrames com base em uma ou mais colunas em comum.\n",
        "* É semelhante à operação SQL JOIN e permite especificar o tipo de mesclagem (inner, outer, left, right).\n"
      ]
    },
    {
      "cell_type": "markdown",
      "metadata": {
        "id": "OQNRIctn36_O"
      },
      "source": [
        "### Tratamento de valores\n",
        "\n",
        "\n",
        " o Pandas oferece diversas técnicas para o tratamento de valores em DataFrames. Tratar valores significa lidar com dados ausentes (missing), valores nulos (null), valores duplicados e outros tipos de dados que precisam ser limpos ou ajustados para análise adequada. Vamos abordar algumas das principais técnicas de tratamento de valores em DataFrames:\n",
        "\n",
        "1. Verificar Valores Nulos: Use o método isnull() ou isna() para identificar valores nulos em um DataFrame. O método notnull() pode ser usado para verificar valores não nulos.\n",
        "\n",
        "2. Lidar com Valores Nulos: O método fillna() permite preencher valores nulos com um valor específico. Outra opção é o método dropna(), que permite remover linhas ou colunas com valores nulos.\n",
        "\n",
        "3. Verificar e Remover Duplicatas: Use o método duplicated() para verificar duplicatas em um DataFrame. Use o método drop_duplicates() para remover as duplicatas.\n",
        "\n",
        "4. Tratamento de Valores Inválidos ou Inconsistentes: É importante verificar e tratar valores que estão fora do esperado ou que são inconsistentes com o domínio do problema.\n",
        "\n"
      ]
    },
    {
      "cell_type": "code",
      "execution_count": null,
      "metadata": {
        "colab": {
          "base_uri": "https://localhost:8080/"
        },
        "id": "DYUI-CnK2-0e",
        "outputId": "e41b8732-5fb8-415c-8e36-1bf58f158a12"
      },
      "outputs": [],
      "source": [
        "def verificar_valores_NA(df):\n",
        "  return df.isna().sum()\n",
        "\n",
        "# Verificar valores nulos\n",
        "verificar_valores_NA(df_pokemon)"
      ]
    },
    {
      "cell_type": "code",
      "execution_count": null,
      "metadata": {
        "colab": {
          "base_uri": "https://localhost:8080/"
        },
        "id": "Ktg_kTUW7f6N",
        "outputId": "d4c3f57f-61e7-4f99-efe8-85326031cf10"
      },
      "outputs": [],
      "source": [
        "# Preencher valores nulos em 'Type 2' com 'None'\n",
        "df_pokemon['Type 2'].fillna('None', inplace=True)\n",
        "\n",
        "verificar_valores_NA(df_pokemon)"
      ]
    },
    {
      "cell_type": "code",
      "execution_count": null,
      "metadata": {
        "colab": {
          "base_uri": "https://localhost:8080/"
        },
        "id": "7-nwtSR-HOOP",
        "outputId": "a1d73cce-d55a-4628-e4b5-7425b9a2102a"
      },
      "outputs": [],
      "source": [
        "# Remover linhas com valores nulos em 'Type 1'\n",
        "print(len(df_pokemon))\n",
        "df_pokemon = df_pokemon.dropna(subset=['Type 1']).reset_index(drop = True)\n",
        "print(len(df_pokemon))"
      ]
    },
    {
      "cell_type": "code",
      "execution_count": null,
      "metadata": {
        "colab": {
          "base_uri": "https://localhost:8080/"
        },
        "id": "4Ii8eFGA9DS8",
        "outputId": "fba84fd2-b62d-4a2a-c2af-95a8950ee8fd"
      },
      "outputs": [],
      "source": [
        "def verificar_valores_duplicados(df):\n",
        "  return df.duplicated().sum()\n",
        "\n",
        "# Verificar duplicatas\n",
        "print(verificar_valores_duplicados(df_pokemon))\n",
        "# Remover as duplicatas\n",
        "df_pokemon = df_pokemon.drop_duplicates()\n",
        "\n",
        "print(verificar_valores_duplicados(df_pokemon))"
      ]
    },
    {
      "cell_type": "code",
      "execution_count": null,
      "metadata": {
        "colab": {
          "base_uri": "https://localhost:8080/"
        },
        "id": "geoa2yItBg-L",
        "outputId": "90e2a7b3-0e81-4c0e-9049-b36e6ddf4fcd"
      },
      "outputs": [],
      "source": [
        "# Verificar valores únicos em 'Generation'\n",
        "print(df_pokemon['Generation'].unique())\n",
        "df_pokemon.value_counts()"
      ]
    },
    {
      "cell_type": "markdown",
      "metadata": {
        "id": "fZ1bnnGpEamY"
      },
      "source": [
        "### Amostragem de dados"
      ]
    },
    {
      "cell_type": "code",
      "execution_count": null,
      "metadata": {
        "colab": {
          "base_uri": "https://localhost:8080/",
          "height": 241
        },
        "id": "rhLCeaDg9dHv",
        "outputId": "26c05982-1744-43f4-d8dc-4003231951d9"
      },
      "outputs": [],
      "source": [
        "amostra_fracionada = df_pokemon.sample(frac = 0.5, random_state = 42)\n",
        "\n",
        "print(len(df_pokemon))\n",
        "print(len(amostra_fracionada))\n",
        "\n",
        "amostra_fracionada.head()"
      ]
    },
    {
      "cell_type": "code",
      "execution_count": null,
      "metadata": {
        "colab": {
          "base_uri": "https://localhost:8080/",
          "height": 241
        },
        "id": "RUKyCpYZF3AZ",
        "outputId": "ceb5c4d7-989c-407c-fe4e-dcc8f96f52ad"
      },
      "outputs": [],
      "source": [
        "amostra = df_pokemon.sample(n = 200, random_state = 42)\n",
        "\n",
        "print(len(df_pokemon))\n",
        "print(len(amostra))\n",
        "\n",
        "amostra.head()"
      ]
    },
    {
      "cell_type": "markdown",
      "metadata": {
        "id": "EziHLNOcFCkV"
      },
      "source": [
        "### Salvar dataframe\n",
        "\n",
        "\n"
      ]
    },
    {
      "cell_type": "code",
      "execution_count": 55,
      "metadata": {
        "id": "vtIVV7eQElFe"
      },
      "outputs": [],
      "source": [
        "df_pokemon.to_csv('pokemon_dataset_modificado.csv', index = False)"
      ]
    },
    {
      "cell_type": "markdown",
      "metadata": {
        "id": "OUw4WBIrJ3Ol"
      },
      "source": [
        "# Desafio Pandas\n",
        "\n",
        "Objetivo:\n",
        "\n",
        "O objetivo deste desafio é escolher um conjunto de dados de sua escolha e praticar várias funcionalidades da biblioteca Pandas\n",
        "\n",
        "1. Leitura de Dados:\n",
        "\n",
        "* Carregue um conjunto de dados em formato CSV ou Excel usando pd.read_csv() ou pd.read_excel().\n",
        "* Explore as primeiras linhas do conjunto de dados usando head().\n",
        "\n",
        "2. Resumo de Dados:\n",
        "\n",
        "* Calcule estatísticas resumidas, como média, mediana, mínimo e máximo para colunas numéricas.\n",
        "* Conte o número de linhas e colunas no conjunto de dados usando shape.\n",
        "\n",
        "3. Seleção de Dados:\n",
        "\n",
        "* Selecione uma única coluna do DataFrame.\n",
        "* Filtre o DataFrame para obter apenas as linhas que atendam a uma determinada condição.\n",
        "\n",
        "4. Ordenação de Dados:\n",
        "\n",
        "* Ordene o DataFrame com base em uma coluna específica, em ordem crescente e decrescente.\n",
        "\n",
        "5. Agregação de Dados:\n",
        "\n",
        "* Agrupe os dados por uma ou mais colunas e calcule a média, soma ou outra métrica para cada grupo.\n"
      ]
    },
    {
      "cell_type": "markdown",
      "metadata": {
        "id": "eznkOsKZVfiJ"
      },
      "source": [
        "## Datasets disponíveis\n",
        "\n",
        "1. Animal Dataset: https://raw.githubusercontent.com/lucasvoltera/minicurso-python-secompp/main/dados/Animal%20Dataset.csv\n",
        "```\n",
        "Animal: O nome ou tipo de animal, identificando a espécie ou categoria do animal.\n",
        "Height (cm): A altura média do animal em centímetros.\n",
        "Weight (kg): O peso médio do animal em quilogramas.\n",
        "Color: A cor ou cores predominantes do animal.\n",
        "Lifespan (years): A expectativa de vida média do animal em anos.\n",
        "Diet: O tipo de dieta ou alimentação predominante do animal (ex.: carnívoro, herbívoro, onívoro).\n",
        "Habitat: O tipo de ambiente ou habitat onde o animal é encontrado na natureza.\n",
        "Predators: Os principais predadores naturais do animal.\n",
        "Average Speed (km/h): A velocidade média que o animal pode atingir em quilômetros por hora.\n",
        "Countries Found: Os países ou regiões onde o animal é encontrado na natureza.\n",
        "Conservation Status: O status de conservação do animal, que pode indicar se a espécie está ameaçada de extinção.\n",
        "Family: A classificação taxonômica do animal em relação à família.\n",
        "Gestation Period (days): O período médio de gestação do animal em dias (aplicável a espécies que se reproduzem dessa forma).\n",
        "Top Speed (km/h): A velocidade máxima que o animal pode atingir em quilômetros por hora.\n",
        "Social Structure: Informações sobre a estrutura social do animal, como se vivem em grupos ou de forma solitária.\n",
        "Offspring per Birth: O número médio de filhotes que o animal costuma ter em cada nascimento ou reprodução.\n",
        "```\n",
        "\n",
        "2. IGN Games: https://raw.githubusercontent.com/lucasvoltera/minicurso-python-secompp/main/dados/IGN%20Games.csv\n",
        "```\n",
        "score_phrase: Uma frase ou termo que descreve qualitativamente a pontuação dada ao jogo, como \"Excelente\", \"Bom\", \"Medíocre\" etc.\n",
        "title: O título do jogo.\n",
        "url: A URL ou link para a página da análise do jogo no site IGN.\n",
        "platform: A plataforma de jogos na qual o jogo está disponível (por exemplo, PlayStation, Xbox, PC).\n",
        "score: A pontuação numérica atribuída ao jogo em uma escala específica (por exemplo, de 0 a 10).\n",
        "genre: O gênero ou categoria do jogo, indicando o tipo de jogo que é (por exemplo, ação, aventura, RPG).\n",
        "editors_choice: Uma marcação que indica se o jogo foi selecionado como uma escolha dos editores do IGN (geralmente para jogos excepcionais).\n",
        "release_year: O ano de lançamento do jogo.\n",
        "release_month: O mês de lançamento do jogo.\n",
        "release_day: O dia do mês em que o jogo foi lançado.\n",
        "```\n",
        "\n",
        "3. Linkedin Tech Jobs: https://raw.githubusercontent.com/lucasvoltera/minicurso-python-secompp/main/dados/LinkedIn%20Tech%20Jobs.csv\n",
        "```\n",
        "Company_Name: O nome da empresa que está oferecendo a oportunidade de emprego.\n",
        "Class: A classificação ou categoria da empresa em termos de tecnologia (por exemplo, startups, grandes empresas de tecnologia).\n",
        "Designation: O cargo ou posição de trabalho disponível na empresa.\n",
        "Location: A localização geográfica onde a oportunidade de emprego está disponível.\n",
        "Total_applicants: O número total de candidatos que se inscreveram para a posição.\n",
        "LinkedIn_Followers: O número de seguidores da empresa no LinkedIn.\n",
        "Level: O nível da posição de trabalho (por exemplo, júnior, sênior).\n",
        "Involvement: O grau de envolvimento necessário para o trabalho (por exemplo, tempo integral, meio período).\n",
        "Employee_count: O tamanho da empresa em termos de número de funcionários.\n",
        "Industry: A indústria à qual a empresa pertence.\n",
        "PYTHON, C++, JAVA, HADOOP, SCALA, FLASK, PANDAS, SPARK, NUMPY, PHP, SQL, MYSQL, CSS, MONGODB, NLTK, TENSORFLOW, LINUX, RUBY, JAVASCRIPT, DJANGO, REACT, REACTJS, AI, UI, TABLEAU, NODEJS, EXCEL, POWER BI, SELENIUM, HTML, ML: Colunas que indicam a presença ou ausência de habilidades ou tecnologias específicas exigidas para a posição de trabalho.\n",
        "```\n",
        "\n",
        "4. NASA Exoplanets: https://raw.githubusercontent.com/lucasvoltera/minicurso-python-secompp/main/dados/NASA%20Exoplanets.csv\n",
        "```\n",
        "name: O nome ou identificador do exoplaneta.\n",
        "distance: A distância entre o exoplaneta e a estrela hospedeira (em unidades específicas, como anos-luz ou parsecs).\n",
        "stellar_magnitude: A magnitude estelar da estrela hospedeira, que é uma medida do brilho da estrela.\n",
        "planet_type: O tipo de planeta (por exemplo, gigante gasoso, terrestre) ou características relacionadas ao exoplaneta.\n",
        "discovery_year: O ano em que o exoplaneta foi descoberto.\n",
        "mass_multiplier: Um multiplicador relacionado à massa do exoplaneta.\n",
        "mass_wrt: Uma referência para a massa do exoplaneta (por exemplo, em relação à massa da Terra).\n",
        "radius_multiplier: Um multiplicador relacionado ao raio do exoplaneta.\n",
        "radius_wrt: Uma referência para o raio do exoplaneta (por exemplo, em relação ao raio da Terra).\n",
        "orbital_radius: O raio orbital ou distância média entre o exoplaneta e sua estrela hospedeira (em unidades específicas).\n",
        "orbital_period: O período orbital, que é o tempo que o exoplaneta leva para completar uma órbita ao redor de sua estrela (em unidades específicas, como dias ou anos).\n",
        "eccentricity: A excentricidade da órbita do exoplaneta, que descreve o quão elíptica é sua trajetória orbital.\n",
        "detection_method: O método de detecção utilizado para descobrir o exoplaneta (por exemplo, trânsito, velocidade radial).\n",
        "```\n",
        "\n",
        "\n",
        "5. Spotify musics: https://raw.githubusercontent.com/lucasvoltera/minicurso-python-secompp/main/dados/spotfy%20musics.csv\n",
        "```\n",
        "playlist_url: A URL da playlist à qual a música pertence.\n",
        "year: O ano de lançamento da música.\n",
        "track_id: Um identificador único para cada faixa.\n",
        "track_name: O nome da música.\n",
        "track_popularity: A popularidade da música, possivelmente uma métrica numérica que indica o quão popular a música é.\n",
        "album: O nome do álbum ao qual a música pertence.\n",
        "artist_id: Um identificador único para o artista.\n",
        "artist_name: O nome do artista.\n",
        "artist_genres: Os gêneros musicais associados ao artista.\n",
        "artist_popularity: A popularidade do artista, possivelmente uma métrica numérica.\n",
        "danceability: Uma métrica que indica o quão adequada a música é para dançar.\n",
        "energy: Uma métrica que representa a energia da música.\n",
        "key: A tonalidade da música.\n",
        "loudness: A intensidade sonora da música.\n",
        "mode: O modo da música (maior ou menor).\n",
        "speechiness: Uma métrica que indica o quão \"falada\" é a música em relação à parte instrumental.\n",
        "acousticness: Uma métrica que representa o quão acústica é a música.\n",
        "instrumentalness: Uma métrica que indica o quão instrumental é a música.\n",
        "liveness: Uma métrica que representa o quão \"ao vivo\" é o desempenho da música.\n",
        "valence: Uma métrica que indica a positividade da música.\n",
        "tempo: O ritmo ou velocidade da música.\n",
        "duration_ms: A duração da música em milissegundos.\n",
        "time_signature: A assinatura de tempo da música.\n",
        "```"
      ]
    },
    {
      "cell_type": "markdown",
      "metadata": {
        "id": "jW94pwA5LQ-c"
      },
      "source": [
        "## Matplotlib"
      ]
    },
    {
      "cell_type": "markdown",
      "metadata": {
        "id": "cYZRMoMmGaMq"
      },
      "source": [
        "### Visualização de dados\n",
        "\n",
        "A visualização de dados é uma etapa essencial na análise de dados, pois permite representar informações de maneira gráfica, tornando mais fácil entender padrões, tendências e insights nos dados. O Pandas oferece métodos que facilitam a criação de gráficos básicos diretamente de DataFrames, enquanto o Matplotlib oferece uma ampla gama de opções para personalizar e criar gráficos mais complexos.\n",
        "\n",
        "\n",
        "O passo a passo para plotar gráficos são:\n",
        "\n",
        "1. Criar a figura\n",
        "\n",
        "2. Criar o gráfico\n",
        "\n",
        "3. Configurar o gráfico\n",
        "\n",
        "4. Mostrar o gráfico"
      ]
    },
    {
      "cell_type": "markdown",
      "metadata": {
        "id": "Z_U8EspSLHdU"
      },
      "source": [
        "### Personalização dos gráficos\n",
        "\n",
        "Títulos, rótulos e legendas:\n",
        "* O título do gráfico pode ser adicionado usando plt.title('Título do Gráfico').\n",
        "* Rótulos dos eixos podem ser adicionados com plt.xlabel('Rótulo do Eixo X') e plt.ylabel('Rótulo do Eixo Y').\n",
        "* Para adicionar uma legenda, é necessário definir o parâmetro label no momento de plotar os dados e, em seguida, chamar plt.legend() para exibir a legenda.\n",
        "\n",
        "Cores e estilos de linha:\n",
        "* A cor pode ser especificada usando o parâmetro color.\n",
        "* O estilo da linha pode ser definido com o parâmetro linestyle.\n",
        "\n",
        "Limite dos eixos:\n",
        "* Para definir os limites dos eixos, você pode usar plt.xlim() e plt.ylim().\n",
        "\n",
        "Marcadores e tamanho dos pontos:\n",
        "* É possível personalizar os marcadores usados em um scatter plot com o parâmetro marker.\n",
        "* O tamanho dos pontos pode ser ajustado com o parâmetro s.\n",
        "\n",
        "\n"
      ]
    },
    {
      "cell_type": "markdown",
      "metadata": {
        "id": "sL75Ii0DPdOG"
      },
      "source": [
        "#### Gráfico de histograma\n",
        "\n",
        "Um histograma é uma representação gráfica de uma distribuição de dados numéricos. É uma ferramenta comum na análise exploratória de dados e é usado para visualizar a frequência com que os valores ocorrem em um conjunto de dados contínuos ou discretos"
      ]
    },
    {
      "cell_type": "code",
      "execution_count": null,
      "metadata": {
        "colab": {
          "base_uri": "https://localhost:8080/",
          "height": 472
        },
        "id": "vCgwQfAVPgFK",
        "outputId": "3ea9e866-eeca-4386-da3b-c02439efd2ff"
      },
      "outputs": [],
      "source": [
        "# Filtrar os valores de ataque\n",
        "ataque_pokemon = df_pokemon['Attack'].dropna()\n",
        "\n",
        "# Criar o histograma\n",
        "fig, ax = plt.subplots()\n",
        "ax.hist(ataque_pokemon, bins=20, edgecolor='black')\n",
        "ax.set_title('Histograma de ataque dos Pokémons')\n",
        "ax.set_xlabel('Ataque')\n",
        "ax.set_ylabel('Frequência')\n",
        "plt.show()\n"
      ]
    },
    {
      "cell_type": "markdown",
      "metadata": {
        "id": "F6AW0hUcLpi7"
      },
      "source": [
        "#### Grafico de barras\n",
        "\n",
        "Um gráfico de barras é uma forma de visualização gráfica que representa dados discretos ou categóricos usando barras retangulares. Cada barra representa uma categoria e a altura da barra representa a quantidade ou frequência dos dados associados a essa categoria"
      ]
    },
    {
      "cell_type": "code",
      "execution_count": null,
      "metadata": {
        "colab": {
          "base_uri": "https://localhost:8080/",
          "height": 600
        },
        "id": "23xbt1UNKZpq",
        "outputId": "a8d5c9f1-cf71-4ae6-89ce-83da015a5158"
      },
      "outputs": [],
      "source": [
        "# Contagem de Pokémon por \"Type 1\"\n",
        "count_by_type = df_pokemon['Type 1'].value_counts()\n",
        "\n",
        "# Criar o gráfico de barras\n",
        "fig, ax = plt.subplots(figsize=(10, 6))\n",
        "ax.bar(count_by_type.index, count_by_type.values)\n",
        "ax.set_title('Contagem de Pokémon por Tipo')\n",
        "ax.set_xlabel('Tipo')\n",
        "ax.set_ylabel('Contagem')\n",
        "plt.xticks(rotation=45)\n",
        "plt.show()\n"
      ]
    },
    {
      "cell_type": "code",
      "execution_count": null,
      "metadata": {
        "colab": {
          "base_uri": "https://localhost:8080/",
          "height": 508
        },
        "id": "AeSLx3oOOY6r",
        "outputId": "c8ee4dbf-9f8b-4584-b972-8dc995e03bb4"
      },
      "outputs": [],
      "source": [
        "# Gráfico de barras (bar plot) para a média do atributo de ataque (Attack) por tipo de Pokémon\n",
        "mean_attack_by_type = df_pokemon.groupby('Type 1')['Attack'].mean()\n",
        "plt.bar(mean_attack_by_type.index, mean_attack_by_type.values, label='Média de Ataque por Tipo')\n",
        "plt.title('Média de Ataque por Tipo de Pokémon')\n",
        "plt.xlabel('Tipo de Pokémon')\n",
        "plt.ylabel('Média de Ataque')\n",
        "plt.xticks(rotation=45)\n",
        "plt.ylim(0, 200)  # Define o limite inferior e superior do eixo Y\n",
        "plt.legend()\n",
        "plt.show()\n",
        "\n"
      ]
    },
    {
      "cell_type": "markdown",
      "metadata": {
        "id": "DOFUXlhROq5i"
      },
      "source": [
        "#### Gráfico de pizza\n",
        "\n",
        "Um gráfico de pizza é uma representação gráfica que mostra a proporção de diferentes partes de um todo usando setores de um círculo. Cada setor representa uma categoria ou classe de dados, e o tamanho do setor é proporcional à sua contribuição em relação ao todo."
      ]
    },
    {
      "cell_type": "code",
      "execution_count": null,
      "metadata": {
        "colab": {
          "base_uri": "https://localhost:8080/",
          "height": 435
        },
        "id": "12ah9E6WOpu6",
        "outputId": "c199793d-70c0-4398-fd20-c930a6cc03f5"
      },
      "outputs": [],
      "source": [
        "# Contagem dos tipos de Pokémon\n",
        "count_by_type = df_pokemon['Generation'].value_counts()\n",
        "\n",
        "# Criar o gráfico de pizza\n",
        "fig, ax = plt.subplots()\n",
        "ax.pie(count_by_type, labels=count_by_type.index, autopct='%1.1f%%', startangle=90)\n",
        "ax.set_title('Distribuição das gerações de Pokémon')\n",
        "plt.axis('equal')\n",
        "plt.show()\n"
      ]
    },
    {
      "cell_type": "markdown",
      "metadata": {
        "id": "V1B8M1JrNRfa"
      },
      "source": [
        "#### Gráfico de dispersão\n",
        "\n",
        "Um gráfico de dispersão (também conhecido como gráfico de pontos) é uma forma de visualização gráfica que representa a relação entre duas variáveis numéricas. Ele é usado para identificar padrões, tendências e correlações entre os dados. Cada ponto no gráfico de dispersão representa uma observação, onde os valores das duas variáveis são plotados em um plano cartesiano.\n",
        "\n"
      ]
    },
    {
      "cell_type": "code",
      "execution_count": null,
      "metadata": {
        "colab": {
          "base_uri": "https://localhost:8080/",
          "height": 472
        },
        "id": "jMKRR4jbMvjE",
        "outputId": "cbaa81ed-c3e4-499f-82eb-ea2aad6a1ff9"
      },
      "outputs": [],
      "source": [
        "# Criar o gráfico de dispersão\n",
        "fig, ax = plt.subplots()\n",
        "ax.scatter(df_pokemon['HP'], df_pokemon['Attack'], alpha=0.5)\n",
        "ax.set_title('Relação entre HP e Attack')\n",
        "ax.set_xlabel('HP')\n",
        "ax.set_ylabel('Attack')\n",
        "plt.show()\n"
      ]
    },
    {
      "cell_type": "code",
      "execution_count": null,
      "metadata": {
        "colab": {
          "base_uri": "https://localhost:8080/",
          "height": 472
        },
        "id": "B-6uxSvJJwQI",
        "outputId": "084796f6-b82d-42b4-a837-94bdfc9da231"
      },
      "outputs": [],
      "source": [
        "# Scatter plot (gráfico de dispersão) entre os atributos de ataque (Attack) e defesa (Defense)\n",
        "plt.scatter(df_pokemon['Attack'], df_pokemon['Defense'], label='Pokémons', alpha=0.5)\n",
        "plt.title('Relação entre Ataque e Defesa dos Pokémons')\n",
        "plt.xlabel('Ataque')\n",
        "plt.ylabel('Defesa')\n",
        "plt.legend()\n",
        "plt.show()"
      ]
    },
    {
      "cell_type": "markdown",
      "metadata": {
        "id": "c5hPaQ2YPPZb"
      },
      "source": [
        "#### Gráfico de linhas\n",
        "\n",
        "Um gráfico de linhas é uma forma de visualização gráfica que representa a relação entre duas variáveis numéricas através de pontos conectados por linhas retas. Ele é usado para mostrar a tendência e a evolução dos dados ao longo do tempo ou de outro tipo de sequência. Cada ponto no gráfico de linhas representa uma observação em um determinado momento ou período.\n",
        "\n"
      ]
    },
    {
      "cell_type": "code",
      "execution_count": null,
      "metadata": {
        "colab": {
          "base_uri": "https://localhost:8080/",
          "height": 269
        },
        "id": "PWYwMO1RNUd1",
        "outputId": "0f50b98b-0f95-4d4a-87a7-ed7ba17a1a9d"
      },
      "outputs": [],
      "source": [
        "# Agrupar por Geração e calcular a média dos atributos\n",
        "media_atributos_por_geracao = df_pokemon.groupby('Generation')[['HP', 'Attack', 'Defense']].mean()\n",
        "media_atributos_por_geracao"
      ]
    },
    {
      "cell_type": "code",
      "execution_count": null,
      "metadata": {
        "colab": {
          "base_uri": "https://localhost:8080/",
          "height": 472
        },
        "id": "gY2wTj6ZNx2a",
        "outputId": "6a3d2a66-5210-44d8-894a-bd2fd81315e5"
      },
      "outputs": [],
      "source": [
        "# Criar o gráfico de linhas com pontos por cima das linhas\n",
        "fig, ax = plt.subplots()\n",
        "media_atributos_por_geracao.plot(kind='line', ax=ax, marker='o', linestyle = '--', color = ['red', 'green', 'blue'])\n",
        "ax.set_title('Média dos Atributos por Geração')\n",
        "ax.set_xlabel('Geração')\n",
        "ax.set_ylabel('Média')\n",
        "plt.legend(title='Atributos', loc='upper left')\n",
        "plt.show()\n"
      ]
    },
    {
      "cell_type": "code",
      "execution_count": null,
      "metadata": {
        "colab": {
          "base_uri": "https://localhost:8080/",
          "height": 472
        },
        "id": "h3WUpVqFILz2",
        "outputId": "35cbd6d8-8404-4c61-c25e-f42f5bd9619c"
      },
      "outputs": [],
      "source": [
        "# Gráfico de linha para visualizar os pontos de HP ao longo do índice\n",
        "plt.plot(df_pokemon['HP'], color='red', label='HP')\n",
        "plt.title('Variação dos Pontos de HP dos Pokémons')\n",
        "plt.xlabel('Índice')\n",
        "plt.ylabel('HP')\n",
        "plt.legend()\n",
        "plt.show()\n"
      ]
    },
    {
      "cell_type": "markdown",
      "metadata": {
        "id": "399b-oeRMuNZ"
      },
      "source": [
        "### Layouts e subplots\n",
        "\n",
        "Subplots são uma maneira de criar vários gráficos na mesma figura, permitindo comparar visualmente diferentes aspectos dos dados. Você pode personalizar a disposição dos subplots para controlar a organização dos gráficos na figura"
      ]
    },
    {
      "cell_type": "code",
      "execution_count": null,
      "metadata": {
        "colab": {
          "base_uri": "https://localhost:8080/",
          "height": 807
        },
        "id": "BMM6BeYvKE9k",
        "outputId": "45b00f74-ce85-4a74-d230-da1064f46f2a"
      },
      "outputs": [],
      "source": [
        "# Cria uma figura com 2 linhas e 2 colunas de subplots\n",
        "fig, axes = plt.subplots(nrows=2, ncols=2, figsize=(10, 8))\n",
        "\n",
        "# Gráfico de dispersão entre HP e Attack\n",
        "axes[0, 0].scatter(df_pokemon['HP'], df_pokemon['Attack'], color='r', alpha=0.7)\n",
        "axes[0, 0].set_title('HP vs. Attack')\n",
        "\n",
        "# Gráfico de barras para o número de Pokémon por tipo\n",
        "pokemon_count_by_type = df_pokemon['Type 1'].value_counts()\n",
        "axes[0, 1].bar(pokemon_count_by_type.index, pokemon_count_by_type.values, color='g')\n",
        "axes[0, 1].set_title('Número de Pokémon por Tipo')\n",
        "axes[0, 1].tick_params(axis='x', rotation=45)\n",
        "\n",
        "# Gráfico de linha para visualizar a evolução dos Pontos de HP (HP) ao longo do índice\n",
        "axes[1, 0].plot(df_pokemon['HP'], color='b', linestyle='--')\n",
        "axes[1, 0].set_title('Evolução dos Pontos de HP')\n",
        "axes[1, 0].set_xlabel('Índice')\n",
        "axes[1, 0].set_ylabel('HP')\n",
        "\n",
        "# Gráfico de pizza para a distribuição dos tipos de Pokémon\n",
        "pokemon_type_distribution = df_pokemon['Type 1'].value_counts()\n",
        "axes[1, 1].pie(pokemon_type_distribution, labels=pokemon_type_distribution.index, autopct='%1.1f%%')\n",
        "axes[1, 1].set_title('Distribuição dos Tipos de Pokémon')\n",
        "\n",
        "# Ajusta a distância entre os subplots\n",
        "plt.tight_layout()\n",
        "\n",
        "# Exibe a figura com os subplots\n",
        "plt.show()\n"
      ]
    },
    {
      "cell_type": "markdown",
      "metadata": {
        "id": "abZFE-ruN0MZ"
      },
      "source": [
        "### Graficos avançados\n",
        "\n",
        "alguns gráficos avançados que podem fornecer informações mais detalhadas e úteis sobre os dados: gráficos de área, gráficos de barras empilhadas, gráficos de violin e gráficos de caixa (box plots)."
      ]
    },
    {
      "cell_type": "markdown",
      "metadata": {
        "id": "t6m7ZX9BOkzO"
      },
      "source": [
        "#### Gráfico de área\n",
        "\n",
        "Os gráficos de área são úteis para visualizar a evolução ou distribuição acumulada de uma variável ao longo de uma dimensão, como o tempo ou um índice."
      ]
    },
    {
      "cell_type": "code",
      "execution_count": null,
      "metadata": {
        "colab": {
          "base_uri": "https://localhost:8080/",
          "height": 472
        },
        "id": "iFQ3c3iSM0iq",
        "outputId": "052fdff3-6eb4-4840-beae-854c2aca1feb"
      },
      "outputs": [],
      "source": [
        "# Agrupa o dataset pela geração de Pokémon e calcula a média dos pontos de HP (HP) e ataque (Attack)\n",
        "gen_data = df_pokemon.groupby('Generation')[['HP', 'Attack']].mean()\n",
        "\n",
        "# Cria um gráfico de área para visualizar a evolução média dos pontos de HP e ataque ao longo das gerações\n",
        "gen_data.plot.area()\n",
        "plt.title('Evolução Média dos Pontos de HP e Ataque por Geração')\n",
        "plt.xlabel('Geração')\n",
        "plt.ylabel('Pontos Médios')\n",
        "plt.show()\n"
      ]
    },
    {
      "cell_type": "markdown",
      "metadata": {
        "id": "EuKEXf40Oozh"
      },
      "source": [
        "#### Gráfico de barras empilhadas\n",
        "\n",
        "Os gráficos de barras empilhadas permitem comparar a composição de diferentes categorias em diferentes grupos."
      ]
    },
    {
      "cell_type": "code",
      "execution_count": null,
      "metadata": {
        "colab": {
          "base_uri": "https://localhost:8080/",
          "height": 600
        },
        "id": "u1vKt6RVN4en",
        "outputId": "0d67d45f-953f-4c50-b57f-44da01674d71"
      },
      "outputs": [],
      "source": [
        "# Cria uma tabela de frequência para contar a quantidade de Pokémon por tipo (Type 1) e geração (Generation)\n",
        "type_gen_count = df_pokemon.groupby(['Type 1', 'Generation']).size().unstack()\n",
        "\n",
        "# Cria um gráfico de barras empilhadas para visualizar a distribuição dos tipos de Pokémon em cada geração\n",
        "type_gen_count.plot.bar(stacked=True, figsize=(10, 6))\n",
        "plt.title('Distribuição dos Tipos de Pokémon por Geração')\n",
        "plt.xlabel('Tipo de Pokémon')\n",
        "plt.ylabel('Contagem')\n",
        "plt.xticks(rotation=45)\n",
        "plt.legend(title='Geração')\n",
        "plt.show()\n"
      ]
    },
    {
      "cell_type": "markdown",
      "metadata": {
        "id": "NfWvksnTOukt"
      },
      "source": [
        "#### Gráficos de Caixa (Box Plots)\n",
        "\n",
        "Os gráficos de caixa exibem a distribuição de uma variável numérica por meio de quartis, mostrando informações sobre mediana, quartis e possíveis outliers."
      ]
    },
    {
      "cell_type": "code",
      "execution_count": null,
      "metadata": {
        "colab": {
          "base_uri": "https://localhost:8080/",
          "height": 600
        },
        "id": "iGm5HaEiOTWl",
        "outputId": "7100f1e3-a856-46dd-fb28-21b881b12c77"
      },
      "outputs": [],
      "source": [
        "# Cria um gráfico de caixa para visualizar a distribuição do atributo de defesa (Defense) por tipo de Pokémon\n",
        "plt.figure(figsize=(10, 6))\n",
        "plt.title('Distribuição do Atributo de Defesa por Tipo de Pokémon')\n",
        "plt.xlabel('Tipo de Pokémon')\n",
        "plt.ylabel('Defesa')\n",
        "plt.xticks(rotation=45)\n",
        "plt.boxplot([df_pokemon[df_pokemon['Type 1'] == t]['Defense'] for t in df_pokemon['Type 1'].unique()],\n",
        "            labels=df_pokemon['Type 1'].unique())\n",
        "plt.show()\n"
      ]
    },
    {
      "cell_type": "markdown",
      "metadata": {
        "id": "ekiQG4C1O1AW"
      },
      "source": [
        "#### Gráficos de Violin\n",
        "\n",
        "Os gráficos de violin exibem a distribuição de uma variável numérica para diferentes categorias, proporcionando uma representação mais rica do que o tradicional gráfico de caixa.\n",
        "\n"
      ]
    },
    {
      "cell_type": "code",
      "execution_count": null,
      "metadata": {
        "colab": {
          "base_uri": "https://localhost:8080/",
          "height": 600
        },
        "id": "s7k9VZeFOBPC",
        "outputId": "d1772d73-6bb9-457c-a56c-1712fc41ebe5"
      },
      "outputs": [],
      "source": [
        "# Cria um gráfico de violin para visualizar a distribuição do atributo de ataque (Attack) para cada tipo de Pokémon\n",
        "plt.figure(figsize=(10, 6))\n",
        "plt.title('Distribuição do Atributo de Ataque por Tipo de Pokémon')\n",
        "plt.xlabel('Tipo de Pokémon')\n",
        "plt.ylabel('Ataque')\n",
        "plt.xticks(rotation=45)\n",
        "plt.violinplot(dataset=[df_pokemon[df_pokemon['Type 1'] == t]['Attack'] for t in df_pokemon['Type 1'].unique()],\n",
        "               showmedians=True)\n",
        "plt.xticks(ticks=range(1, len(df_pokemon['Type 1'].unique()) + 1), labels=df_pokemon['Type 1'].unique())\n",
        "plt.show()\n"
      ]
    },
    {
      "cell_type": "markdown",
      "metadata": {
        "id": "vRqxJe2sPb1y"
      },
      "source": [
        "### Séries temporais\n",
        "\n",
        "Séries temporais são conjuntos de dados que são coletados em intervalos de tempo regulares e organizados em ordem cronológica. Elas são amplamente utilizadas em diversas áreas, como economia, finanças, ciências sociais, climatologia, entre outras. Plotar séries temporais permite visualizar padrões, tendências e sazonalidades ao longo do tempo"
      ]
    },
    {
      "cell_type": "code",
      "execution_count": null,
      "metadata": {
        "colab": {
          "base_uri": "https://localhost:8080/",
          "height": 990
        },
        "id": "h-yhta4BOImB",
        "outputId": "ab8b9e1f-1847-452b-d2a0-b3b07e60e5c3"
      },
      "outputs": [],
      "source": [
        "# Cria uma série temporal com 30 amostras diárias de temperatura média\n",
        "start_date = '2023-07-01'\n",
        "end_date = pd.to_datetime(start_date) + pd.DateOffset(days=29)\n",
        "date_range = pd.date_range(start=start_date, end=end_date, freq='D')\n",
        "\n",
        "# Gerar valores de temperatura aleatórios entre 20°C e 35°C para os 30 dias\n",
        "np.random.seed(42)\n",
        "temperature_data = np.random.uniform(low=20, high=35, size=len(date_range))\n",
        "\n",
        "# Cria um DataFrame usando pandas\n",
        "temperature_series = pd.DataFrame({'Date': date_range, 'Temperature (°C)': temperature_data})\n",
        "temperature_series\n"
      ]
    },
    {
      "cell_type": "code",
      "execution_count": null,
      "metadata": {
        "colab": {
          "base_uri": "https://localhost:8080/",
          "height": 549
        },
        "id": "JquGnAjNPqxD",
        "outputId": "761b40af-2b4c-4d64-b16f-9fd4826ed612"
      },
      "outputs": [],
      "source": [
        "# Define o tamanho da figura\n",
        "plt.figure(figsize=(12, 6))\n",
        "\n",
        "# Plota a série temporal\n",
        "plt.plot(temperature_series['Date'], temperature_series['Temperature (°C)'], marker='o', linestyle='-',\n",
        "         color='b', label='Temperatura Média')\n",
        "\n",
        "# Personaliza os eixos de datas e formatação de datas\n",
        "plt.gca().xaxis.set_major_locator(plt.MaxNLocator(6))  # Define o número de ticks no eixo X\n",
        "plt.gcf().autofmt_xdate()  # Formata automaticamente os rótulos de data para evitar sobreposição\n",
        "\n",
        "# Adiciona título e rótulos dos eixos\n",
        "plt.title('Série Temporal de Temperatura Média Diária')\n",
        "plt.xlabel('Data')\n",
        "plt.ylabel('Temperatura (°C)')\n",
        "\n",
        "# Adiciona uma grade para facilitar a leitura dos valores\n",
        "plt.grid()\n",
        "\n",
        "# Exibe a legenda\n",
        "plt.legend()\n",
        "\n",
        "# Exibe o gráfico\n",
        "plt.show()\n"
      ]
    },
    {
      "cell_type": "markdown",
      "metadata": {
        "id": "x1TiSbu1Si-S"
      },
      "source": [
        "A função plt.gca().xaxis.set_major_locator(plt.MaxNLocator(10)) define o número de ticks (marcadores) no eixo X para evitar que as datas se sobreponham e tornar a visualização mais clara. A função plt.gcf().autofmt_xdate() formata automaticamente os rótulos de data para um formato mais legível."
      ]
    },
    {
      "cell_type": "markdown",
      "metadata": {
        "id": "36S72V4tTw67"
      },
      "source": [
        "### Salvar gráficos\n",
        "\n",
        "Com o Matplotlib, você pode exportar e salvar seus gráficos em diferentes formatos de arquivo, como PNG, JPEG e PDF. Isso é útil quando você deseja compartilhar ou incluir os gráficos em documentos, apresentações ou relatórios."
      ]
    },
    {
      "cell_type": "code",
      "execution_count": null,
      "metadata": {
        "colab": {
          "base_uri": "https://localhost:8080/",
          "height": 472
        },
        "id": "W0HX8X8_PrYg",
        "outputId": "c4f25f07-4318-468a-e8e1-82347f8a2041"
      },
      "outputs": [],
      "source": [
        "# Dados fictícios para exemplificar o gráfico\n",
        "x = [1, 2, 3, 4, 5]\n",
        "y = [2, 4, 6, 8, 10]\n",
        "\n",
        "# Plota o gráfico de linha\n",
        "plt.plot(x, y)\n",
        "plt.title('Exemplo de Gráfico de Linha')\n",
        "plt.xlabel('Eixo X')\n",
        "plt.ylabel('Eixo Y')\n",
        "plt.grid(True)\n",
        "\n",
        "# Salva o gráfico em formato PNG com alta resolução (300 DPI)\n",
        "plt.savefig('grafico.png', dpi=300)\n",
        "\n",
        "# Exibe o gráfico na tela\n",
        "plt.show()\n"
      ]
    },
    {
      "cell_type": "markdown",
      "metadata": {
        "id": "fxbyz90fagEp"
      },
      "source": [
        "# Desafio Matplotlib\n",
        "\n",
        "Objetivo\n",
        "\n",
        "O objetivo é utilizar um conjunto de dados de sua escolha (ou sugerido por nós, se preferir) e criar gráfcos e visualizações de dados.\n",
        "\n",
        "\n",
        "Passos gerais do desafio:\n",
        "* Escolha um Conjunto de Dados: Você pode optar por usar um conjunto de dados de sua preferência ou selecionar um dos conjuntos de dados sugeridos.\n",
        "\n",
        "* Defina seu Objetivo: Decida qual é a mensagem ou os insights que você deseja comunicar por meio de suas visualizações. Pode ser uma análise exploratória simples ou uma narrativa mais complexa.\n",
        "\n",
        "* Escolha os Tipos de Gráficos: Selecione os tipos de gráficos que melhor se adequam aos seus dados e objetivos. Isso pode incluir gráficos de barras, histogramas, gráficos de linhas, gráficos de dispersão, entre outros.\n",
        "\n",
        "* Prepare os Dados: Realize qualquer pré-processamento necessário em seus dados, como agrupamento, agregação ou filtragem, para prepará-los para a visualização.\n",
        "\n",
        "* Crie Visualizações: Use o Matplotlib para criar suas visualizações de dados. Certifique-se de adicionar rótulos, títulos, legendas e formatação adequada para tornar suas visualizações compreensíveis.\n",
        "\n",
        "\n",
        "Requisitos\n",
        "\n",
        "\n",
        "\n",
        "1. Gráfico de Barras: Crie um gráfico de barras que mostre a contagem de categorias em um conjunto de dados.\n",
        "\n",
        "2. Histograma: Plote um histograma para visualizar a distribuição de valores em uma coluna numérica do conjunto de dados.\n",
        "\n",
        "3. Gráfico de Linhas: Crie um gráfico de linhas para mostrar como uma variável muda ao longo do tempo ou de acordo com alguma outra variável.\n",
        "\n",
        "4. Gráfico de Dispersão: Faça um gráfico de dispersão para visualizar a relação entre duas variáveis numéricas.\n",
        "\n",
        "5. Gráfico de Pizza: Crie um gráfico de pizza para mostrar a composição de categorias em um conjunto de dados.\n",
        "\n",
        "6. Gráfico de Caixa (Box Plot): Plote um gráfico de caixa para visualizar a distribuição estatística de uma variável numérica, incluindo quartis e outliers.\n",
        "\n"
      ]
    },
    {
      "cell_type": "code",
      "execution_count": null,
      "metadata": {
        "colab": {
          "base_uri": "https://localhost:8080/",
          "height": 34
        },
        "id": "qx24yvoDTrpk",
        "outputId": "0bcee73f-58a5-400b-a219-d812f924295c"
      },
      "outputs": [],
      "source": [
        "# Salva o gráfico em formato PNG com alta resolução (300 DPI)\n",
        "plt.savefig('grafico.png', dpi=300)\n",
        "\n",
        "# Salva o gráfico em formato JPEG com alta qualidade (qualidade 95)\n",
        "plt.savefig('grafico.jpg')\n",
        "\n",
        "# Salva o gráfico em formato PDF\n",
        "plt.savefig('grafico.pdf', format='pdf')"
      ]
    },
    {
      "cell_type": "markdown",
      "metadata": {
        "id": "IIyKrMtRUnrG"
      },
      "source": [
        "## NumPy\n",
        "\n",
        "NumPy (Numerical Python) é uma biblioteca fundamental em Python para computação numérica e científica. Ela fornece suporte para arrays multidimensionais (também conhecidos como tensores) e funções matemáticas de alto desempenho para trabalhar com esses arrays. O NumPy é amplamente utilizado em diversas áreas, como ciência de dados, aprendizado de máquina, engenharia, física, entre outras, devido à sua eficiência computacional e facilidade de uso.\n",
        "\n",
        "\n",
        "### Por que o NumPy é importante\n",
        "\n",
        "1. Arrays N-dimensionais eficientes: O NumPy oferece a estrutura de dados ndarray, que permite criar e manipular arrays N-dimensionais eficientemente. Esses arrays são muito mais eficientes em termos de tempo de execução e uso de memória do que as listas padrão do Python.\n",
        "\n",
        "2. Amplas funcionalidades matemáticas: O NumPy possui uma grande variedade de funções matemáticas, como operações matriciais, estatísticas, álgebra linear e geração de números aleatórios."
      ]
    },
    {
      "cell_type": "markdown",
      "metadata": {
        "id": "cwpaTv4RW8u0"
      },
      "source": [
        "### Criação de NumPy Arrays\n",
        "\n",
        "Para criar arrays no NumPy, utilizamos a função numpy.array(). Podemos passar uma lista, tupla ou outra estrutura iterável como argumento para criar um array.\n",
        "\n"
      ]
    },
    {
      "cell_type": "code",
      "execution_count": null,
      "metadata": {
        "colab": {
          "base_uri": "https://localhost:8080/"
        },
        "id": "P_-GIBUfVVPQ",
        "outputId": "5e49c576-5cb0-4fd1-f4fc-e3afbc2aa0d0"
      },
      "outputs": [],
      "source": [
        "# Criação de um array unidimensional\n",
        "arr1d = np.array([1, 2, 3, 4, 5])\n",
        "print(\"Array unidimensional:\")\n",
        "print(arr1d)\n",
        "# Propriedade shape\n",
        "print(\"Shape do array unidimensional:\", arr1d.shape)\n",
        "\n",
        "\n",
        "# Criação de um array multidimensional (matriz)\n",
        "arr2d = np.array([[1, 2, 3],\n",
        "                  [4, 5, 6],\n",
        "                  [7, 8, 9]])\n",
        "\n",
        "print(\"\\nArray multidimensional:\")\n",
        "print(arr2d)\n",
        "print()\n",
        "# Propriedade shape e ndim\n",
        "print(\"Shape do array multidimensional:\", arr2d.shape)\n",
        "print(\"Número de dimensões do array multidimensional:\", arr2d.ndim)\n"
      ]
    },
    {
      "cell_type": "markdown",
      "metadata": {
        "id": "ImnPg_cUY2N-"
      },
      "source": [
        "#### Indexação e Fatiamento\n",
        "\n",
        "O NumPy permite acessar elementos específicos em um array através da indexação. A indexação no NumPy começa a partir do índice 0."
      ]
    },
    {
      "cell_type": "code",
      "execution_count": null,
      "metadata": {
        "colab": {
          "base_uri": "https://localhost:8080/"
        },
        "id": "Pt_o92qyYmrV",
        "outputId": "c307dcb5-be84-434b-d40b-dbd1d059338e"
      },
      "outputs": [],
      "source": [
        "# Criando um array unidimensional\n",
        "arr = np.array([10, 20, 30, 40, 50])\n",
        "\n",
        "# Acessando um elemento específico\n",
        "print(arr[2])  # Saída: 30\n",
        "\n",
        "# Fatiando o array para obter um subarray\n",
        "print(arr[1:4])  # Saída: [20 30 40]\n"
      ]
    },
    {
      "cell_type": "markdown",
      "metadata": {
        "id": "BwZAT6K6Y4vB"
      },
      "source": [
        "#### Shape e ndim\n",
        "\n",
        "A propriedade shape de um array retorna uma tupla com as dimensões do array (linha e coluna). Já a propriedade ndim retorna o número de dimensões do array.\n"
      ]
    },
    {
      "cell_type": "code",
      "execution_count": null,
      "metadata": {
        "colab": {
          "base_uri": "https://localhost:8080/"
        },
        "id": "-MZw-XHfXRfb",
        "outputId": "f7d6d4ab-ccc1-4fb5-b2eb-3eb88fbbfa4f"
      },
      "outputs": [],
      "source": [
        "# Criação de um array unidimensional\n",
        "arr = np.array([1, 2, 3, 4, 5])\n",
        "\n",
        "# Propriedade shape\n",
        "print(\"Shape do array unidimensional:\", arr.shape)\n",
        "\n",
        "# Criação de um array multidimensional (matriz)\n",
        "matrix = np.array([[1, 2, 3], [4, 5, 6], [7, 8, 9]])\n",
        "\n",
        "# Propriedade shape e ndim\n",
        "print(\"Shape do array multidimensional:\", matrix.shape)\n",
        "print(\"Número de dimensões do array multidimensional:\", matrix.ndim)\n"
      ]
    },
    {
      "cell_type": "markdown",
      "metadata": {
        "id": "vbSxYT0DZyLF"
      },
      "source": [
        "### Funções básicas de Arrays\n",
        "\n",
        "O NumPy oferece uma ampla gama de funções matemáticas e operações que tornam a computação numérica mais eficiente e conveniente. Vamos explorar três aspectos importantes: ufuncs para operações element-wise, reduções e operações lógicas e booleanas."
      ]
    },
    {
      "cell_type": "markdown",
      "metadata": {
        "id": "dnN7auaLZ4qg"
      },
      "source": [
        "#### Funções matemáticas universais\n",
        "\n",
        "As ufuncs são funções matemáticas universais que operam elemento a elemento em arrays NumPy. Isso significa que essas funções são aplicadas a cada elemento do array individualmente, tornando as operações vetorizadas e, portanto, mais eficientes do que loops.\n",
        "\n"
      ]
    },
    {
      "cell_type": "code",
      "execution_count": null,
      "metadata": {
        "colab": {
          "base_uri": "https://localhost:8080/"
        },
        "id": "CNdhMTpQY_R5",
        "outputId": "8b747857-4363-4a02-b07d-3e557418a40b"
      },
      "outputs": [],
      "source": [
        "# Criando um array\n",
        "arr = np.array([1, 2, 3, 4, 5])\n",
        "\n",
        "# Ufuncs para operações element-wise\n",
        "print(\"Soma:\", arr + 2)  # Soma 2 a cada elemento\n",
        "print(\"Subtração:\", arr - 2)  # Subtrai 2 de cada elemento\n",
        "print(\"Multiplicação:\", arr * 2)  # Multiplica cada elemento por 2\n",
        "print(\"Divisão:\", arr / 2)  # Divide cada elemento por 2\n"
      ]
    },
    {
      "cell_type": "markdown",
      "metadata": {
        "id": "e6dSBbh3aHXa"
      },
      "source": [
        "#### Reduções\n",
        "\n",
        "As reduções são operações que agregam os elementos do array em um único valor. O NumPy fornece funções que realizam essas reduções, como np.sum(), np.mean(), np.min(), np.max(), entre outras.\n",
        "\n"
      ]
    },
    {
      "cell_type": "code",
      "execution_count": null,
      "metadata": {
        "colab": {
          "base_uri": "https://localhost:8080/"
        },
        "id": "r2mD20qraCHY",
        "outputId": "8164efe5-8bad-44d9-cda4-32be9b1e3f1b"
      },
      "outputs": [],
      "source": [
        "# Criando um array\n",
        "arr = np.array([1, 2, 3, 4, 5])\n",
        "\n",
        "# Reduções\n",
        "print(\"Soma dos elementos:\", np.sum(arr))  # Saída: 15\n",
        "print(\"Média dos elementos:\", np.mean(arr))  # Saída: 3.0\n",
        "print(\"Valor mínimo:\", np.min(arr))  # Saída: 1\n",
        "print(\"Valor máximo:\", np.max(arr))  # Saída: 5\n"
      ]
    },
    {
      "cell_type": "markdown",
      "metadata": {
        "id": "xsAlkbXnaM0y"
      },
      "source": [
        "#### Operações lógicas e booleanas\n",
        "\n",
        "O NumPy também permite realizar operações lógicas e booleanas em arrays. Podemos utilizar operadores lógicos, como & (AND), | (OR) e ~ (NOT), ou funções lógicas, como np.logical_and(), np.logical_or() e np.logical_not()."
      ]
    },
    {
      "cell_type": "code",
      "execution_count": null,
      "metadata": {
        "colab": {
          "base_uri": "https://localhost:8080/"
        },
        "id": "HhTVcONNaKyW",
        "outputId": "c5176d0c-f13d-4bf4-fd05-88335a9cb145"
      },
      "outputs": [],
      "source": [
        "# Criando um array\n",
        "arr = np.array([1, 2, 3, 4, 5])\n",
        "\n",
        "# Operações lógicas\n",
        "print(\"Elementos maiores que 2:\", arr > 2)  # Saída: [False False  True  True  True]\n",
        "print(\"Elementos ímpares:\", arr % 2 == 1)  # Saída: [ True False  True False  True]\n",
        "\n"
      ]
    },
    {
      "cell_type": "markdown",
      "metadata": {
        "id": "fvs3qk7Xa_5L"
      },
      "source": [
        "### Manipulação de Arrays\n",
        "\n",
        "A manipulação de arrays é uma parte fundamental da análise de dados e computação numérica. O NumPy fornece várias funções para alterar a forma dos arrays, como reshape, flatten e ravel. Além disso, é possível concatenar e dividir arrays para combinar e dividir dados. Vamos explorar esses conceitos teóricos e praticar com exemplos.\n"
      ]
    },
    {
      "cell_type": "markdown",
      "metadata": {
        "id": "z8_LQHfzbEJO"
      },
      "source": [
        "#### Reshape, flatten e ravel para alterar a forma dos arrays\n",
        "\n",
        "O reshape permite reorganizar os elementos do array em uma nova forma sem alterar os dados. O flatten retorna uma cópia do array como um array unidimensional."
      ]
    },
    {
      "cell_type": "code",
      "execution_count": null,
      "metadata": {
        "colab": {
          "base_uri": "https://localhost:8080/"
        },
        "id": "HCBgDkIhaRtO",
        "outputId": "7238f76a-5bd0-424f-eca4-554461f37a58"
      },
      "outputs": [],
      "source": [
        "\n",
        "# Criando um array unidimensional\n",
        "arr = np.arange(12)\n",
        "print(\"Array original:\")\n",
        "print(arr)\n",
        "\n",
        "# Reshape para um array 2D (matriz 4x3)\n",
        "arr_2d = arr.reshape(4, 3)\n",
        "print(\"\\nArray 2D:\")\n",
        "print(arr_2d)\n",
        "\n",
        "# Usando flatten\n",
        "arr_flatten = arr_2d.flatten()\n",
        "print(\"\\nArray unidimensional (flatten):\")\n",
        "print(arr_flatten)"
      ]
    },
    {
      "cell_type": "markdown",
      "metadata": {
        "id": "QSnEawQ7bfbn"
      },
      "source": [
        "#### Concatenação e divisão de arrays\n",
        "\n",
        "A concatenação é a operação de combinar arrays ao longo de um determinado eixo. O NumPy fornece a função np.concatenate para realizar essa operação. Já a divisão de arrays é a operação de dividir um array em múltiplos subarrays menores. A função np.split é usada para dividir o array.\n",
        "\n"
      ]
    },
    {
      "cell_type": "code",
      "execution_count": null,
      "metadata": {
        "colab": {
          "base_uri": "https://localhost:8080/"
        },
        "id": "OVxt8JoGbI6A",
        "outputId": "94d4a97b-9a4a-4160-ac7a-d7dd534b81af"
      },
      "outputs": [],
      "source": [
        "# Criando dois arrays\n",
        "arr1 = np.array([[1, 2, 3], [4, 5, 6]])\n",
        "arr2 = np.array([[7, 8, 9], [10, 11, 12]])\n",
        "\n",
        "# Concatenação vertical (ao longo do eixo 0)\n",
        "arr_concat_vertical = np.concatenate((arr1, arr2), axis=0)\n",
        "print(\"Concatenação vertical:\")\n",
        "print(arr_concat_vertical)\n",
        "\n",
        "# Concatenação horizontal (ao longo do eixo 1)\n",
        "arr_concat_horizontal = np.concatenate((arr1, arr2), axis=1)\n",
        "print(\"\\nConcatenação horizontal:\")\n",
        "print(arr_concat_horizontal)\n",
        "\n",
        "# Divisão em três subarrays\n",
        "arr_split = np.array([1, 2, 3, 4, 5, 6, 7, 8, 9, 10, 11, 12])\n",
        "arr_split_result = np.split(arr_split, 3)\n",
        "print(\"\\nDivisão em três subarrays:\")\n",
        "print(arr_split_result)\n"
      ]
    },
    {
      "cell_type": "markdown",
      "metadata": {
        "id": "nol-TZ8ZdEnn"
      },
      "source": [
        "### Funções estatísticas\n",
        "\n",
        "O NumPy oferece diversas funções para realizar cálculos estatísticos em arrays numéricos. Essas funções são amplamente utilizadas na análise de dados para obter insights sobre a distribuição dos dados, relações entre variáveis e outras informações estatísticas importantes.\n",
        "\n"
      ]
    },
    {
      "cell_type": "markdown",
      "metadata": {
        "id": "LQ7bwKEydMMt"
      },
      "source": [
        "#### Média, Mediana e Desvio Padrão\n",
        "\n",
        "A média é a soma de todos os elementos dividida pelo número de elementos. A mediana é o valor central quando os elementos são ordenados em ordem crescente. O desvio padrão é uma medida de dispersão dos dados em torno da média.\n",
        "\n"
      ]
    },
    {
      "cell_type": "code",
      "execution_count": null,
      "metadata": {
        "colab": {
          "base_uri": "https://localhost:8080/"
        },
        "id": "kJVYGugXbpwW",
        "outputId": "5c14d025-ffc4-4ee4-b8d6-180ff7e29fc9"
      },
      "outputs": [],
      "source": [
        "# Filtrar as estatísticas de HP e Attack\n",
        "hp = df_pokemon['HP']\n",
        "attack = df_pokemon['Attack']\n",
        "\n",
        "\n",
        "# Cálculo da média\n",
        "mean_hp = np.mean(hp)\n",
        "mean_attack = np.mean(attack)\n",
        "print(\"Média do HP:\", mean_hp)\n",
        "print(\"Média do Attack:\", mean_attack)\n",
        "\n",
        "# Cálculo da mediana\n",
        "median_hp = np.median(hp)\n",
        "median_attack = np.median(attack)\n",
        "print(\"\\nMediana do HP:\", median_hp)\n",
        "print(\"Mediana do Attack:\", median_attack)\n",
        "\n",
        "# Cálculo do desvio padrão\n",
        "std_hp = np.std(hp)\n",
        "std_attack = np.std(attack)\n",
        "print(\"\\nDesvio Padrão do HP:\", std_hp)\n",
        "print(\"Desvio Padrão do Attack:\", std_attack)\n",
        "\n"
      ]
    },
    {
      "cell_type": "markdown",
      "metadata": {
        "id": "0PlXnje_dll4"
      },
      "source": [
        "#### Correlação e Covariância\n",
        "\n",
        "No NumPy, \"correlação\" é a medida estatística que quantifica o grau de relação linear entre duas variáveis.\n",
        "\n",
        "Ela ajuda a entender se existe uma relação entre essas variáveis e se essa relação é positiva (quando uma variável aumenta, a outra também aumenta), negativa (quando uma variável aumenta, a outra diminui) ou nula (quando as variáveis não tem relação uma com a outra).\n",
        "\n"
      ]
    },
    {
      "cell_type": "code",
      "execution_count": null,
      "metadata": {
        "colab": {
          "base_uri": "https://localhost:8080/"
        },
        "id": "S1nLyGZIdpYb",
        "outputId": "84eae074-be79-400a-becc-5db8631b21cc"
      },
      "outputs": [],
      "source": [
        "# Cálculo da correlação\n",
        "correlation = np.corrcoef(hp, attack)\n",
        "print(\"\\nCorrelação entre HP e Attack:\")\n",
        "print(correlation)\n"
      ]
    },
    {
      "cell_type": "code",
      "execution_count": null,
      "metadata": {
        "colab": {
          "base_uri": "https://localhost:8080/",
          "height": 545
        },
        "id": "DsGzkrNeeJD6",
        "outputId": "2af09459-b5b3-4877-a072-1f0d04d3e665"
      },
      "outputs": [],
      "source": [
        "import seaborn as sns\n",
        "\n",
        "# Filtrar as colunas relevantes para a matriz de correlação\n",
        "selected_columns = ['HP', 'Attack', 'Defense', 'Speed', 'Legendary']\n",
        "selected_data = df_pokemon[selected_columns]\n",
        "\n",
        "# Calcular a matriz de correlação\n",
        "correlation_matrix = selected_data.corr()\n",
        "\n",
        "# Máscara para manter apenas a parte triangular inferior\n",
        "mask = np.triu(np.ones_like(correlation_matrix, dtype=bool))\n",
        "\n",
        "# Plotar o heatmap da matriz de correlação\n",
        "plt.figure(figsize=(8, 6))\n",
        "sns.heatmap(correlation_matrix, annot=True, cmap='coolwarm', fmt='.2f', linewidths=0.5, mask=mask)\n",
        "plt.title('Matriz de Correlação entre HP e Attack dos Pokémon')\n",
        "plt.show()\n",
        "\n"
      ]
    },
    {
      "cell_type": "markdown",
      "metadata": {
        "id": "6E8sAUWjfO1O"
      },
      "source": [
        "\n",
        "# Desafio NumPy\n",
        "\n",
        "Objetivo\n",
        "\n",
        "A proposta é utilizar um conjunto de dados de sua escolha ou sugerido por nós para realizar manipulação e análise de dados com a biblioteca NumPy.\n",
        "\n",
        "1. Cálculo de Estatísticas Básicas:\n",
        "\n",
        "* Calcule a média, mediana e desvio padrão de uma coluna numérica de seu conjunto de dados.\n",
        "\n",
        "2. Operações Elementares:\n",
        "\n",
        "* Realize operações elementares (adição, subtração, multiplicação, divisão) em duas colunas numéricas e crie uma nova coluna com os resultados.\n",
        "\n",
        "3. Reshaping de Dados:\n",
        "\n",
        "* Mude a forma de uma matriz NumPy, transformando-a em uma matriz bidimensional ou unidimensional.\n",
        "\n",
        "\n",
        "4. Cálculo de Correlação:\n",
        "\n",
        "* Calcule a matriz de correlação entre diferentes colunas numéricas do conjunto de dados.\n"
      ]
    },
    {
      "cell_type": "code",
      "execution_count": null,
      "metadata": {
        "id": "zA0LecepeYct"
      },
      "outputs": [],
      "source": []
    }
  ],
  "metadata": {
    "colab": {
      "provenance": [],
      "toc_visible": true
    },
    "kernelspec": {
      "display_name": "Python 3",
      "name": "python3"
    },
    "language_info": {
      "codemirror_mode": {
        "name": "ipython",
        "version": 3
      },
      "file_extension": ".py",
      "mimetype": "text/x-python",
      "name": "python",
      "nbconvert_exporter": "python",
      "pygments_lexer": "ipython3",
      "version": "3.12.3"
    }
  },
  "nbformat": 4,
  "nbformat_minor": 0
}
